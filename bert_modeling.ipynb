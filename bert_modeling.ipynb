{
 "cells": [
  {
   "cell_type": "markdown",
   "metadata": {
    "id": "ZoDqZXcsAkeS"
   },
   "source": [
    "# Загрузка данных"
   ]
  },
  {
   "cell_type": "code",
   "execution_count": null,
   "metadata": {
    "colab": {
     "base_uri": "https://localhost:8080/"
    },
    "executionInfo": {
     "elapsed": 196,
     "status": "ok",
     "timestamp": 1637451384054,
     "user": {
      "displayName": "Даниил Степанов",
      "photoUrl": "https://lh3.googleusercontent.com/a/default-user=s64",
      "userId": "14575924048281452148"
     },
     "user_tz": -180
    },
    "id": "Oss6PCNOY3cZ",
    "outputId": "b14106a3-2d1d-4955-b90f-c6f2de3b3dff"
   },
   "outputs": [
    {
     "name": "stdout",
     "output_type": "stream",
     "text": [
      "Drive already mounted at /content/drive/; to attempt to forcibly remount, call drive.mount(\"/content/drive/\", force_remount=True).\n"
     ]
    }
   ],
   "source": [
    "from google.colab import drive\n",
    "drive.mount('/content/drive/')\n",
    "\n",
    "data_dir = '/content/drive/My Drive/ProductBert'"
   ]
  },
  {
   "cell_type": "code",
   "execution_count": null,
   "metadata": {
    "collapsed": true,
    "execution": {
     "iopub.execute_input": "2021-11-20T12:28:59.463772Z",
     "iopub.status.busy": "2021-11-20T12:28:59.463340Z",
     "iopub.status.idle": "2021-11-20T12:28:59.487655Z",
     "shell.execute_reply": "2021-11-20T12:28:59.486965Z",
     "shell.execute_reply.started": "2021-11-20T12:28:59.463739Z"
    },
    "id": "DG0zavt5Ajj-",
    "jupyter": {
     "outputs_hidden": true
    }
   },
   "outputs": [],
   "source": [
    "import pandas as pd\n",
    "import string\n",
    "import re\n",
    "from tqdm import tqdm\n",
    "import os\n",
    "import numpy as np\n",
    "from sklearn.metrics import accuracy_score"
   ]
  },
  {
   "cell_type": "code",
   "execution_count": null,
   "metadata": {
    "execution": {
     "iopub.execute_input": "2021-11-20T12:10:09.582160Z",
     "iopub.status.busy": "2021-11-20T12:10:09.581984Z",
     "iopub.status.idle": "2021-11-20T12:10:12.888637Z",
     "shell.execute_reply": "2021-11-20T12:10:12.887926Z",
     "shell.execute_reply.started": "2021-11-20T12:10:09.582139Z"
    },
    "id": "_Ghgi5raA5r2"
   },
   "outputs": [],
   "source": [
    "data = pd.read_csv(os.path.join(data_dir, 'data.csv'))"
   ]
  },
  {
   "cell_type": "code",
   "execution_count": null,
   "metadata": {
    "execution": {
     "iopub.execute_input": "2021-11-20T12:10:12.891593Z",
     "iopub.status.busy": "2021-11-20T12:10:12.890836Z",
     "iopub.status.idle": "2021-11-20T12:10:12.897165Z",
     "shell.execute_reply": "2021-11-20T12:10:12.896398Z",
     "shell.execute_reply.started": "2021-11-20T12:10:12.891555Z"
    },
    "id": "n6hry6qAF_Zz"
   },
   "outputs": [],
   "source": [
    "def preprocess_text(x):\n",
    "\n",
    "    x = x.translate(str.maketrans('', '', string.punctuation))\n",
    "    x = x.translate(str.maketrans('', '', string.digits))\n",
    "    x = ''.join([w for w in x if not re.match(r'[A-Z]+', w, re.I)])\n",
    "\n",
    "    return x.strip().lower()"
   ]
  },
  {
   "cell_type": "code",
   "execution_count": null,
   "metadata": {
    "execution": {
     "iopub.execute_input": "2021-11-20T12:10:12.901267Z",
     "iopub.status.busy": "2021-11-20T12:10:12.900533Z",
     "iopub.status.idle": "2021-11-20T12:11:32.984458Z",
     "shell.execute_reply": "2021-11-20T12:11:32.983710Z",
     "shell.execute_reply.started": "2021-11-20T12:10:12.901228Z"
    },
    "id": "2LkdP_c0F9RG"
   },
   "outputs": [],
   "source": [
    "data['Наименование'] = data['Наименование'].apply(lambda x: preprocess_text(x))"
   ]
  },
  {
   "cell_type": "code",
   "execution_count": null,
   "metadata": {
    "execution": {
     "iopub.execute_input": "2021-11-20T12:11:32.985966Z",
     "iopub.status.busy": "2021-11-20T12:11:32.985717Z",
     "iopub.status.idle": "2021-11-20T12:11:33.475264Z",
     "shell.execute_reply": "2021-11-20T12:11:33.474543Z",
     "shell.execute_reply.started": "2021-11-20T12:11:32.985933Z"
    },
    "id": "-JXG-OkmG0zs"
   },
   "outputs": [],
   "source": [
    "data = data.drop_duplicates().reset_index(drop=True)"
   ]
  },
  {
   "cell_type": "code",
   "execution_count": null,
   "metadata": {
    "execution": {
     "iopub.execute_input": "2021-11-20T12:11:33.477282Z",
     "iopub.status.busy": "2021-11-20T12:11:33.476999Z",
     "iopub.status.idle": "2021-11-20T12:11:33.481796Z",
     "shell.execute_reply": "2021-11-20T12:11:33.481146Z",
     "shell.execute_reply.started": "2021-11-20T12:11:33.477246Z"
    },
    "id": "rJGIHU2lbViJ"
   },
   "outputs": [],
   "source": [
    "import numpy as np"
   ]
  },
  {
   "cell_type": "code",
   "execution_count": null,
   "metadata": {
    "colab": {
     "base_uri": "https://localhost:8080/"
    },
    "execution": {
     "iopub.execute_input": "2021-11-20T12:11:33.483626Z",
     "iopub.status.busy": "2021-11-20T12:11:33.482885Z",
     "iopub.status.idle": "2021-11-20T12:11:33.531154Z",
     "shell.execute_reply": "2021-11-20T12:11:33.530402Z",
     "shell.execute_reply.started": "2021-11-20T12:11:33.483590Z"
    },
    "executionInfo": {
     "elapsed": 5,
     "status": "ok",
     "timestamp": 1637439891257,
     "user": {
      "displayName": "Даниил Степанов",
      "photoUrl": "https://lh3.googleusercontent.com/a/default-user=s64",
      "userId": "14575924048281452148"
     },
     "user_tz": -180
    },
    "id": "Lx71UjOwY1W3",
    "outputId": "793d8560-916d-41a7-edc0-08f5c9cd55d9"
   },
   "outputs": [
    {
     "data": {
      "text/plain": [
       "Подкатегория_текст\n",
       " Холодное оружие: луки спортивные массовые                                                                                                                                                                                                                                                                               1\n",
       "Башмаки тормозных колодок подвижного состава магистральных железных дорог                                                                                                                                                                                                                                                1\n",
       "Сыворотки прочие                                                                                                                                                                                                                                                                                                         1\n",
       "Статические преобразователи для устройств электроснабжения электрифицированных железных дорог                                                                                                                                                                                                                            1\n",
       "Блочно-модульные тяговые подстанции систем электроснабжения электрифицированных железных дорог                                                                                                                                                                                                                           1\n",
       "                                                                                                                                                                                                                                                                                                                     ...  \n",
       "Изделия хозяйственного обихода: кухонные принадлежности                                                                                                                                                                                                                                                               2510\n",
       "Посуда из стекла для взрослых                                                                                                                                                                                                                                                                                         2554\n",
       "Посуда керамическая (фарфоровая, полуфарфоровая, фаянсовая, майоликовая) для взрослых                                                                                                                                                                                                                                 2745\n",
       "Смеси строительные                                                                                                                                                                                                                                                                                                    4973\n",
       "Лекарственные средства, зарегистрированные в установленном порядке и внесенные в государственный реестр, состоящие из смешанных и несмешанных продуктов для использования в терапевтических или профилактических целях, расфасованные в виде дозированных лекарственных форм или в упаковки для розничной продажи    14303\n",
       "Name: Наименование, Length: 385, dtype: int64"
      ]
     },
     "execution_count": 8,
     "metadata": {},
     "output_type": "execute_result"
    }
   ],
   "source": [
    "data.groupby('Подкатегория_текст')['Наименование'].count().sort_values()"
   ]
  },
  {
   "cell_type": "code",
   "execution_count": null,
   "metadata": {
    "execution": {
     "iopub.execute_input": "2021-11-20T12:11:33.532870Z",
     "iopub.status.busy": "2021-11-20T12:11:33.532433Z",
     "iopub.status.idle": "2021-11-20T12:11:38.384377Z",
     "shell.execute_reply": "2021-11-20T12:11:38.383639Z",
     "shell.execute_reply.started": "2021-11-20T12:11:33.532832Z"
    },
    "id": "-AWQfoQpY1W3"
   },
   "outputs": [],
   "source": [
    "# data_sampled = pd.DataFrame()\n",
    "\n",
    "# for code in data['Подкатегория_текст'].unique():\n",
    "    \n",
    "#     temp = data[data['Подкатегория_текст'] == code]\n",
    "    \n",
    "#     data_sampled = pd.concat([\n",
    "#         data_sampled, \n",
    "#         temp.sample(min(temp.shape[0], 50))\n",
    "#     ], ignore_index=True)"
   ]
  },
  {
   "cell_type": "code",
   "execution_count": null,
   "metadata": {
    "execution": {
     "iopub.execute_input": "2021-11-20T12:11:38.385876Z",
     "iopub.status.busy": "2021-11-20T12:11:38.385612Z",
     "iopub.status.idle": "2021-11-20T12:11:38.392920Z",
     "shell.execute_reply": "2021-11-20T12:11:38.392091Z",
     "shell.execute_reply.started": "2021-11-20T12:11:38.385843Z"
    },
    "id": "QZpaJgcgY1W3"
   },
   "outputs": [],
   "source": [
    "# data_sampled.shape"
   ]
  },
  {
   "cell_type": "code",
   "execution_count": null,
   "metadata": {
    "execution": {
     "iopub.execute_input": "2021-11-20T12:11:38.396759Z",
     "iopub.status.busy": "2021-11-20T12:11:38.396528Z",
     "iopub.status.idle": "2021-11-20T12:11:38.417181Z",
     "shell.execute_reply": "2021-11-20T12:11:38.416369Z",
     "shell.execute_reply.started": "2021-11-20T12:11:38.396732Z"
    },
    "id": "cvsK1SD4Y1W3"
   },
   "outputs": [],
   "source": [
    "# data_sampled.groupby('Подкатегория_текст')['Наименование'].count().sort_values().describe()"
   ]
  },
  {
   "cell_type": "code",
   "execution_count": null,
   "metadata": {
    "execution": {
     "iopub.execute_input": "2021-11-20T12:11:38.419167Z",
     "iopub.status.busy": "2021-11-20T12:11:38.418683Z",
     "iopub.status.idle": "2021-11-20T12:11:38.911926Z",
     "shell.execute_reply": "2021-11-20T12:11:38.911225Z",
     "shell.execute_reply.started": "2021-11-20T12:11:38.419124Z"
    },
    "id": "VgqULFnlHfS0"
   },
   "outputs": [],
   "source": [
    "texts = list(data['Наименование'].values)\n",
    "\n",
    "label_names = [str(x) for x in pd.get_dummies(data['Подкатегория_текст']).columns]\n",
    "labels = pd.get_dummies(data['Подкатегория_текст']).values\n",
    "\n",
    "labels = [np.where(x == 1)[0][0] for x in labels]"
   ]
  },
  {
   "cell_type": "code",
   "execution_count": null,
   "metadata": {
    "id": "5C0P3BfjuMMF"
   },
   "outputs": [],
   "source": [
    "# label_df = pd.DataFrame()\n",
    "# label_df['name'] = label_names\n",
    "# label_df = label_df.reset_index().rename(columns={'index': 'id'})\n",
    "# label_df.to_csv(data_dir+'label_df.csv', index=False)"
   ]
  },
  {
   "cell_type": "markdown",
   "metadata": {
    "id": "czEcLWsAAmtD"
   },
   "source": [
    "# Обучение модели"
   ]
  },
  {
   "cell_type": "code",
   "execution_count": null,
   "metadata": {
    "colab": {
     "base_uri": "https://localhost:8080/"
    },
    "execution": {
     "iopub.execute_input": "2021-11-20T12:11:38.913475Z",
     "iopub.status.busy": "2021-11-20T12:11:38.913234Z",
     "iopub.status.idle": "2021-11-20T12:11:38.917712Z",
     "shell.execute_reply": "2021-11-20T12:11:38.916762Z",
     "shell.execute_reply.started": "2021-11-20T12:11:38.913441Z"
    },
    "executionInfo": {
     "elapsed": 341,
     "status": "ok",
     "timestamp": 1637439911014,
     "user": {
      "displayName": "Даниил Степанов",
      "photoUrl": "https://lh3.googleusercontent.com/a/default-user=s64",
      "userId": "14575924048281452148"
     },
     "user_tz": -180
    },
    "id": "s7qEYjo3AYkU",
    "outputId": "981b9bb7-d3c8-4860-fccc-c5bdec6b37a4"
   },
   "outputs": [
    {
     "name": "stdout",
     "output_type": "stream",
     "text": [
      "Successfully installed huggingface-hub-0.1.2 pyyaml-6.0 sacremoses-0.0.46 tokenizers-0.10.3 transformers-4.12.5\n"
     ]
    }
   ],
   "source": [
    "# !pip install transformers"
   ]
  },
  {
   "cell_type": "code",
   "execution_count": null,
   "metadata": {
    "colab": {
     "base_uri": "https://localhost:8080/",
     "height": 81,
     "referenced_widgets": [
      "5ced5030b54342199b9ace32cbe2e610",
      "337ec056c0fd443bbbf71ee3051dbddf",
      "e86c0baf11b643b59f1e3470c4301fe0",
      "13219318afc146bc94e1c7780fe1af40",
      "6e5d49add64744a0860b1b5c5abb4df2",
      "72c99a4e3a9247eda239cac398e5b8a2",
      "846f85c733094e1a90a7e2c6088207d2",
      "57d0e649f51d484a9ff7d3d5d74caa72",
      "c5ef7c07daed4c678d20dcd6587565a2",
      "7a92df795b8c4eeb9451038b64550439",
      "519162ea515b4597b08bfe35de2c8dcb",
      "8effec4a696e432789ebaf6b9be8ab49",
      "416b1201a9c94021826e30f5b9b236fe",
      "d891d2bc2886453e959aa838827aee6c",
      "3c1fc74136fa48379601db1f03af2b3b",
      "082ca0e36fe9441a8c153262b8129829",
      "0286cf224cbb48969345534b9cebfbe5",
      "be0ae53bdc8947738607ac97d0670dd8",
      "d9588105801348599c3917b6507f89d2",
      "81601e21e36d49ad9ba28a3009235d1e",
      "2842b6834cf3433586d17d4f7e1c56f8",
      "30746cacc2184fc4acf07a90c4194113"
     ]
    },
    "execution": {
     "iopub.execute_input": "2021-11-20T12:11:38.919571Z",
     "iopub.status.busy": "2021-11-20T12:11:38.919095Z",
     "iopub.status.idle": "2021-11-20T12:11:48.175005Z",
     "shell.execute_reply": "2021-11-20T12:11:48.174162Z",
     "shell.execute_reply.started": "2021-11-20T12:11:38.919535Z"
    },
    "executionInfo": {
     "elapsed": 32681,
     "status": "ok",
     "timestamp": 1637439943692,
     "user": {
      "displayName": "Даниил Степанов",
      "photoUrl": "https://lh3.googleusercontent.com/a/default-user=s64",
      "userId": "14575924048281452148"
     },
     "user_tz": -180
    },
    "id": "QuapHovhAFxH",
    "outputId": "aba72d4f-35b2-4b5f-aaaa-6630a9186a38"
   },
   "outputs": [
    {
     "data": {
      "application/vnd.jupyter.widget-view+json": {
       "model_id": "5ced5030b54342199b9ace32cbe2e610",
       "version_major": 2,
       "version_minor": 0
      },
      "text/plain": [
       "Downloading:   0%|          | 0.00/1.70M [00:00<?, ?B/s]"
      ]
     },
     "metadata": {},
     "output_type": "display_data"
    },
    {
     "data": {
      "application/vnd.jupyter.widget-view+json": {
       "model_id": "8effec4a696e432789ebaf6b9be8ab49",
       "version_major": 2,
       "version_minor": 0
      },
      "text/plain": [
       "Downloading:   0%|          | 0.00/521 [00:00<?, ?B/s]"
      ]
     },
     "metadata": {},
     "output_type": "display_data"
    }
   ],
   "source": [
    "# from transformers import AutoTokenizer, AutoModelForSequenceClassification\n",
    "from transformers import BertTokenizerFast, BertForSequenceClassification\n",
    "  \n",
    "model_version = 'sberbank-ai/ruBert-base'\n",
    "\n",
    "tokenizer = BertTokenizerFast.from_pretrained(model_version)"
   ]
  },
  {
   "cell_type": "code",
   "execution_count": null,
   "metadata": {
    "execution": {
     "iopub.execute_input": "2021-11-20T12:11:48.176970Z",
     "iopub.status.busy": "2021-11-20T12:11:48.176700Z",
     "iopub.status.idle": "2021-11-20T12:11:48.691640Z",
     "shell.execute_reply": "2021-11-20T12:11:48.690929Z",
     "shell.execute_reply.started": "2021-11-20T12:11:48.176933Z"
    },
    "id": "FwJ2dOxoFCGa"
   },
   "outputs": [],
   "source": [
    "from sklearn.model_selection import train_test_split\n",
    "\n",
    "X_train, X_val, y_train, y_val = train_test_split(texts, labels, test_size=0.1)"
   ]
  },
  {
   "cell_type": "code",
   "execution_count": null,
   "metadata": {
    "execution": {
     "iopub.execute_input": "2021-11-20T12:11:48.693550Z",
     "iopub.status.busy": "2021-11-20T12:11:48.692750Z",
     "iopub.status.idle": "2021-11-20T12:12:01.531677Z",
     "shell.execute_reply": "2021-11-20T12:12:01.530928Z",
     "shell.execute_reply.started": "2021-11-20T12:11:48.693513Z"
    },
    "id": "pxhV9yq_FCXJ"
   },
   "outputs": [],
   "source": [
    "train_encodings = tokenizer(X_train, truncation=True, padding=True, max_length=100)\n",
    "val_encodings = tokenizer(X_val, truncation=True, padding=True, max_length=100)"
   ]
  },
  {
   "cell_type": "code",
   "execution_count": null,
   "metadata": {
    "execution": {
     "iopub.execute_input": "2021-11-20T12:12:01.533065Z",
     "iopub.status.busy": "2021-11-20T12:12:01.532797Z",
     "iopub.status.idle": "2021-11-20T12:12:01.539293Z",
     "shell.execute_reply": "2021-11-20T12:12:01.538604Z",
     "shell.execute_reply.started": "2021-11-20T12:12:01.533031Z"
    },
    "id": "ugoyiAfLFChi"
   },
   "outputs": [],
   "source": [
    "## PYTORCH CODE\n",
    "import torch\n",
    "\n",
    "class ProdDataset(torch.utils.data.Dataset):\n",
    "    def __init__(self, encodings, labels):\n",
    "        self.encodings = encodings\n",
    "        self.labels = labels\n",
    "\n",
    "    def __getitem__(self, idx):\n",
    "        item = {key: torch.tensor(val[idx]) for key, val in self.encodings.items()}\n",
    "        item['labels'] = torch.tensor(self.labels[idx])\n",
    "        return item\n",
    "\n",
    "    def __len__(self):\n",
    "        return len(self.labels)\n",
    "\n",
    "train_dataset = ProdDataset(train_encodings, y_train)\n",
    "val_dataset = ProdDataset(val_encodings, y_val)"
   ]
  },
  {
   "cell_type": "code",
   "execution_count": null,
   "metadata": {
    "execution": {
     "iopub.execute_input": "2021-11-20T12:12:11.120381Z",
     "iopub.status.busy": "2021-11-20T12:12:11.119907Z",
     "iopub.status.idle": "2021-11-20T12:13:20.704841Z",
     "shell.execute_reply": "2021-11-20T12:13:20.704130Z",
     "shell.execute_reply.started": "2021-11-20T12:12:11.120342Z"
    },
    "id": "TTF7RA-_FCuQ"
   },
   "outputs": [],
   "source": [
    "# model = BertForSequenceClassification.from_pretrained(model_version,\n",
    "#                                                       num_labels=len(label_names))\n",
    "\n",
    "model = BertForSequenceClassification.from_pretrained(data_dir+'/model5')"
   ]
  },
  {
   "cell_type": "code",
   "execution_count": null,
   "metadata": {
    "colab": {
     "base_uri": "https://localhost:8080/"
    },
    "execution": {
     "iopub.execute_input": "2021-11-20T12:13:20.706664Z",
     "iopub.status.busy": "2021-11-20T12:13:20.706392Z",
     "iopub.status.idle": "2021-11-20T12:13:20.882142Z",
     "shell.execute_reply": "2021-11-20T12:13:20.881251Z",
     "shell.execute_reply.started": "2021-11-20T12:13:20.706611Z"
    },
    "executionInfo": {
     "elapsed": 333,
     "status": "ok",
     "timestamp": 1637447689780,
     "user": {
      "displayName": "Даниил Степанов",
      "photoUrl": "https://lh3.googleusercontent.com/a/default-user=s64",
      "userId": "14575924048281452148"
     },
     "user_tz": -180
    },
    "id": "cnwj-ck5YSUD",
    "outputId": "4b2b9c3e-3eac-4c92-e1d0-dc98def9d0b0"
   },
   "outputs": [
    {
     "name": "stderr",
     "output_type": "stream",
     "text": [
      "PyTorch: setting up devices\n",
      "The default value for the training argument `--report_to` will change in v5 (from all installed integrations to none). In v5, you will need to use `--report_to all` to get the same behavior as now. You should start updating your code and make this info disappear :-).\n"
     ]
    }
   ],
   "source": [
    "## PYTORCH CODE\n",
    "from transformers import Trainer, TrainingArguments\n",
    "\n",
    "training_args = TrainingArguments(\n",
    "    output_dir='./results',          # output directory\n",
    "    num_train_epochs=1,              # total number of training epochs\n",
    "    per_device_train_batch_size=64,  # batch size per device during training\n",
    "    per_device_eval_batch_size=64,   # batch size for evaluation\n",
    "    warmup_steps=100,                # number of warmup steps for learning rate scheduler\n",
    "    weight_decay=0.01,               # strength of weight decay\n",
    "    logging_dir=data_dir+'/logs',            # directory for storing logs\n",
    "    # logging_steps=100,\n",
    "    evaluation_strategy='epoch',\n",
    "    save_strategy='epoch',\n",
    "    load_best_model_at_end=True,\n",
    ")"
   ]
  },
  {
   "cell_type": "code",
   "execution_count": null,
   "metadata": {
    "colab": {
     "base_uri": "https://localhost:8080/",
     "height": 500
    },
    "execution": {
     "iopub.execute_input": "2021-11-20T12:13:20.883929Z",
     "iopub.status.busy": "2021-11-20T12:13:20.883689Z",
     "iopub.status.idle": "2021-11-20T12:24:54.714948Z",
     "shell.execute_reply": "2021-11-20T12:24:54.714265Z",
     "shell.execute_reply.started": "2021-11-20T12:13:20.883897Z"
    },
    "executionInfo": {
     "elapsed": 2269703,
     "status": "ok",
     "timestamp": 1637449961349,
     "user": {
      "displayName": "Даниил Степанов",
      "photoUrl": "https://lh3.googleusercontent.com/a/default-user=s64",
      "userId": "14575924048281452148"
     },
     "user_tz": -180
    },
    "id": "HEl4yyN2Y0op",
    "outputId": "a61fc311-9ccd-4da8-dbbb-8544537f1648"
   },
   "outputs": [
    {
     "name": "stderr",
     "output_type": "stream",
     "text": [
      "***** Running training *****\n",
      "  Num examples = 70620\n",
      "  Num Epochs = 1\n",
      "  Instantaneous batch size per device = 64\n",
      "  Total train batch size (w. parallel, distributed & accumulation) = 64\n",
      "  Gradient Accumulation steps = 1\n",
      "  Total optimization steps = 1104\n"
     ]
    },
    {
     "data": {
      "text/html": [
       "\n",
       "    <div>\n",
       "      \n",
       "      <progress value='1104' max='1104' style='width:300px; height:20px; vertical-align: middle;'></progress>\n",
       "      [1104/1104 37:45, Epoch 1/1]\n",
       "    </div>\n",
       "    <table border=\"1\" class=\"dataframe\">\n",
       "  <thead>\n",
       "    <tr style=\"text-align: left;\">\n",
       "      <th>Epoch</th>\n",
       "      <th>Training Loss</th>\n",
       "      <th>Validation Loss</th>\n",
       "    </tr>\n",
       "  </thead>\n",
       "  <tbody>\n",
       "    <tr>\n",
       "      <td>1</td>\n",
       "      <td>0.693900</td>\n",
       "      <td>0.775780</td>\n",
       "    </tr>\n",
       "  </tbody>\n",
       "</table><p>"
      ],
      "text/plain": [
       "<IPython.core.display.HTML object>"
      ]
     },
     "metadata": {},
     "output_type": "display_data"
    },
    {
     "name": "stderr",
     "output_type": "stream",
     "text": [
      "***** Running Evaluation *****\n",
      "  Num examples = 7847\n",
      "  Batch size = 64\n",
      "Saving model checkpoint to ./results/checkpoint-1104\n",
      "Configuration saved in ./results/checkpoint-1104/config.json\n",
      "Model weights saved in ./results/checkpoint-1104/pytorch_model.bin\n",
      "tokenizer config file saved in ./results/checkpoint-1104/tokenizer_config.json\n",
      "Special tokens file saved in ./results/checkpoint-1104/special_tokens_map.json\n",
      "\n",
      "\n",
      "Training completed. Do not forget to share your model on huggingface.co/models =)\n",
      "\n",
      "\n",
      "Loading best model from ./results/checkpoint-1104 (score: 0.7757799625396729).\n"
     ]
    },
    {
     "data": {
      "text/plain": [
       "TrainOutput(global_step=1104, training_loss=0.6986201465993688, metrics={'train_runtime': 2268.9622, 'train_samples_per_second': 31.124, 'train_steps_per_second': 0.487, 'total_flos': 3641562262404000.0, 'train_loss': 0.6986201465993688, 'epoch': 1.0})"
      ]
     },
     "execution_count": 53,
     "metadata": {},
     "output_type": "execute_result"
    }
   ],
   "source": [
    "trainer = Trainer(\n",
    "    model=model,                         # the instantiated 🤗 Transformers model to be trained\n",
    "    args=training_args,                  # training arguments, defined above\n",
    "    train_dataset=train_dataset,         # training dataset\n",
    "    eval_dataset=val_dataset,            # evaluation dataset\n",
    "    tokenizer=tokenizer\n",
    ")\n",
    "\n",
    "trainer.train()"
   ]
  },
  {
   "cell_type": "code",
   "execution_count": null,
   "metadata": {
    "execution": {
     "iopub.execute_input": "2021-11-20T12:27:29.681082Z",
     "iopub.status.busy": "2021-11-20T12:27:29.680838Z",
     "iopub.status.idle": "2021-11-20T12:27:29.687962Z",
     "shell.execute_reply": "2021-11-20T12:27:29.687084Z",
     "shell.execute_reply.started": "2021-11-20T12:27:29.681053Z"
    },
    "id": "vSglBTB2Y1W6"
   },
   "outputs": [],
   "source": [
    "def get_prediction(text):\n",
    "    # prepare our text into tokenized sequence\n",
    "    inputs = tokenizer(text, padding=True, truncation=True, max_length=100, return_tensors=\"pt\").to(\"cuda\")\n",
    "    # perform inference to our model\n",
    "    outputs = model(**inputs)\n",
    "    # get output probabilities by doing softmax\n",
    "    probs = outputs[0].softmax(1).cpu().detach().numpy()[0]\n",
    "    # executing argmax function to get the candidate label\n",
    "    return np.where(probs == probs.max())[0][0]"
   ]
  },
  {
   "cell_type": "code",
   "execution_count": null,
   "metadata": {
    "colab": {
     "base_uri": "https://localhost:8080/"
    },
    "execution": {
     "iopub.execute_input": "2021-11-20T12:29:05.403398Z",
     "iopub.status.busy": "2021-11-20T12:29:05.402966Z",
     "iopub.status.idle": "2021-11-20T12:32:11.977339Z",
     "shell.execute_reply": "2021-11-20T12:32:11.976588Z",
     "shell.execute_reply.started": "2021-11-20T12:29:05.403361Z"
    },
    "executionInfo": {
     "elapsed": 137212,
     "status": "ok",
     "timestamp": 1637450099649,
     "user": {
      "displayName": "Даниил Степанов",
      "photoUrl": "https://lh3.googleusercontent.com/a/default-user=s64",
      "userId": "14575924048281452148"
     },
     "user_tz": -180
    },
    "id": "UUFF5Me2Y1W6",
    "outputId": "71761013-32d7-4539-f4e0-e46e704330aa"
   },
   "outputs": [
    {
     "name": "stderr",
     "output_type": "stream",
     "text": [
      "100%|██████████| 7847/7847 [02:17<00:00, 57.19it/s]\n"
     ]
    }
   ],
   "source": [
    "val_preds = []\n",
    "\n",
    "for x_val in tqdm(X_val):\n",
    "    val_preds.append(get_prediction(x_val))"
   ]
  },
  {
   "cell_type": "code",
   "execution_count": null,
   "metadata": {
    "colab": {
     "base_uri": "https://localhost:8080/"
    },
    "executionInfo": {
     "elapsed": 12,
     "status": "ok",
     "timestamp": 1637450099650,
     "user": {
      "displayName": "Даниил Степанов",
      "photoUrl": "https://lh3.googleusercontent.com/a/default-user=s64",
      "userId": "14575924048281452148"
     },
     "user_tz": -180
    },
    "id": "VobHL1Aze8M2",
    "outputId": "581ee920-c8e0-4cf8-befb-7d6cd11f7d7f"
   },
   "outputs": [
    {
     "data": {
      "text/plain": [
       "0.8006881610806678"
      ]
     },
     "execution_count": 56,
     "metadata": {},
     "output_type": "execute_result"
    }
   ],
   "source": [
    "accuracy_score(y_val, val_preds)"
   ]
  },
  {
   "cell_type": "code",
   "execution_count": null,
   "metadata": {
    "colab": {
     "base_uri": "https://localhost:8080/"
    },
    "executionInfo": {
     "elapsed": 4885,
     "status": "ok",
     "timestamp": 1637450104528,
     "user": {
      "displayName": "Даниил Степанов",
      "photoUrl": "https://lh3.googleusercontent.com/a/default-user=s64",
      "userId": "14575924048281452148"
     },
     "user_tz": -180
    },
    "id": "wff-V-po0tSr",
    "outputId": "11565436-acab-4576-862a-add8faddc674"
   },
   "outputs": [
    {
     "name": "stderr",
     "output_type": "stream",
     "text": [
      "Saving model checkpoint to /content/drive/My Drive/ProductBert/model6\n",
      "Configuration saved in /content/drive/My Drive/ProductBert/model6/config.json\n",
      "Model weights saved in /content/drive/My Drive/ProductBert/model6/pytorch_model.bin\n",
      "tokenizer config file saved in /content/drive/My Drive/ProductBert/model6/tokenizer_config.json\n",
      "Special tokens file saved in /content/drive/My Drive/ProductBert/model6/special_tokens_map.json\n"
     ]
    }
   ],
   "source": [
    "trainer.save_model(data_dir+'/model6')"
   ]
  },
  {
   "cell_type": "markdown",
   "metadata": {
    "id": "jaWjADNloJBF"
   },
   "source": [
    "# Тестируем на сырой выборке"
   ]
  },
  {
   "cell_type": "code",
   "execution_count": 1,
   "metadata": {
    "id": "RZ0gZ2-xrHn0"
   },
   "outputs": [
    {
     "name": "stdout",
     "output_type": "stream",
     "text": [
      "Collecting transformers\n",
      "  Downloading transformers-4.12.5-py3-none-any.whl (3.1 MB)\n",
      "Collecting filelock\n",
      "  Downloading filelock-3.4.0-py3-none-any.whl (9.8 kB)\n",
      "Collecting sacremoses\n",
      "  Using cached sacremoses-0.0.46-py3-none-any.whl (895 kB)\n",
      "Collecting huggingface-hub<1.0,>=0.1.0\n",
      "  Using cached huggingface_hub-0.1.2-py3-none-any.whl (59 kB)\n",
      "Collecting tokenizers<0.11,>=0.10.1\n",
      "  Downloading tokenizers-0.10.3-cp39-cp39-win_amd64.whl (2.0 MB)\n",
      "Requirement already satisfied: packaging>=20.0 in c:\\users\\yurib\\anaconda3\\envs\\analytics_env\\lib\\site-packages (from transformers) (21.0)\n",
      "Requirement already satisfied: numpy>=1.17 in c:\\users\\yurib\\anaconda3\\envs\\analytics_env\\lib\\site-packages (from transformers) (1.21.2)\n",
      "Requirement already satisfied: regex!=2019.12.17 in c:\\users\\yurib\\anaconda3\\envs\\analytics_env\\lib\\site-packages (from transformers) (2021.11.10)\n",
      "Requirement already satisfied: tqdm>=4.27 in c:\\users\\yurib\\anaconda3\\envs\\analytics_env\\lib\\site-packages (from transformers) (4.62.3)\n",
      "Requirement already satisfied: requests in c:\\users\\yurib\\anaconda3\\envs\\analytics_env\\lib\\site-packages (from transformers) (2.26.0)\n",
      "Requirement already satisfied: pyyaml>=5.1 in c:\\users\\yurib\\anaconda3\\envs\\analytics_env\\lib\\site-packages (from transformers) (5.4.1)\n",
      "Requirement already satisfied: typing-extensions>=3.7.4.3 in c:\\users\\yurib\\anaconda3\\envs\\analytics_env\\lib\\site-packages (from huggingface-hub<1.0,>=0.1.0->transformers) (3.10.0.2)\n",
      "Requirement already satisfied: pyparsing>=2.0.2 in c:\\users\\yurib\\anaconda3\\envs\\analytics_env\\lib\\site-packages (from packaging>=20.0->transformers) (2.4.7)\n",
      "Requirement already satisfied: colorama in c:\\users\\yurib\\appdata\\roaming\\python\\python39\\site-packages (from tqdm>=4.27->transformers) (0.4.4)\n",
      "Requirement already satisfied: urllib3<1.27,>=1.21.1 in c:\\users\\yurib\\anaconda3\\envs\\analytics_env\\lib\\site-packages (from requests->transformers) (1.26.7)\n",
      "Requirement already satisfied: charset-normalizer~=2.0.0 in c:\\users\\yurib\\anaconda3\\envs\\analytics_env\\lib\\site-packages (from requests->transformers) (2.0.0)\n",
      "Requirement already satisfied: idna<4,>=2.5 in c:\\users\\yurib\\anaconda3\\envs\\analytics_env\\lib\\site-packages (from requests->transformers) (3.1)\n",
      "Requirement already satisfied: certifi>=2017.4.17 in c:\\users\\yurib\\anaconda3\\envs\\analytics_env\\lib\\site-packages (from requests->transformers) (2021.10.8)\n",
      "Requirement already satisfied: six in c:\\users\\yurib\\appdata\\roaming\\python\\python39\\site-packages (from sacremoses->transformers) (1.16.0)\n",
      "Requirement already satisfied: joblib in c:\\users\\yurib\\anaconda3\\envs\\analytics_env\\lib\\site-packages (from sacremoses->transformers) (1.0.1)\n",
      "Requirement already satisfied: click in c:\\users\\yurib\\anaconda3\\envs\\analytics_env\\lib\\site-packages (from sacremoses->transformers) (8.0.1)\n",
      "Installing collected packages: filelock, tokenizers, sacremoses, huggingface-hub, transformers\n",
      "Successfully installed filelock-3.4.0 huggingface-hub-0.1.2 sacremoses-0.0.46 tokenizers-0.10.3 transformers-4.12.5\n"
     ]
    }
   ],
   "source": [
    "#!pip install transformers"
   ]
  },
  {
   "cell_type": "code",
   "execution_count": null,
   "metadata": {
    "id": "ANYYUMEAq0K3"
   },
   "outputs": [],
   "source": [
    "from transformers import BertTokenizerFast, BertForSequenceClassification\n",
    "\n",
    "model = BertForSequenceClassification.from_pretrained(data_dir+'/model6').to('cuda')\n",
    "\n",
    "tokenizer = BertTokenizerFast.from_pretrained('sberbank-ai/ruBert-base')"
   ]
  },
  {
   "cell_type": "code",
   "execution_count": null,
   "metadata": {
    "id": "cgWQcPmPoe2B"
   },
   "outputs": [],
   "source": [
    "label_df = pd.read_csv(data_dir+'label_df.csv')"
   ]
  },
  {
   "cell_type": "code",
   "execution_count": null,
   "metadata": {
    "id": "5XcnaYDL0hpy"
   },
   "outputs": [],
   "source": [
    "label_df.to_csv('label_df.csv')"
   ]
  },
  {
   "cell_type": "code",
   "execution_count": null,
   "metadata": {
    "id": "fSJpvrPdoIGX"
   },
   "outputs": [],
   "source": [
    "test_data = pd.read_csv(os.path.join(data_dir, 'data.csv')).sample(50000)\n",
    "test_data['Наименование'] = test_data['Наименование'].apply(lambda x: preprocess_text(x))\n",
    "test_texts = list(test_data['Наименование'].values)\n",
    "\n",
    "test_labels = pd.merge(pd.DataFrame(test_data['Подкатегория_текст']).rename(columns={'Подкатегория_текст': 'name'}), \n",
    "                       label_df, on=['name'], how='left').id.values"
   ]
  },
  {
   "cell_type": "code",
   "execution_count": null,
   "metadata": {
    "colab": {
     "base_uri": "https://localhost:8080/"
    },
    "executionInfo": {
     "elapsed": 1036768,
     "status": "ok",
     "timestamp": 1637452802766,
     "user": {
      "displayName": "Даниил Степанов",
      "photoUrl": "https://lh3.googleusercontent.com/a/default-user=s64",
      "userId": "14575924048281452148"
     },
     "user_tz": -180
    },
    "id": "IG2_7g9eqK39",
    "outputId": "d8172f6c-2865-4bb2-cbd2-265cce567d15"
   },
   "outputs": [
    {
     "name": "stderr",
     "output_type": "stream",
     "text": [
      "  0%|          | 0/50000 [00:00<?, ?it/s]/usr/local/lib/python3.7/dist-packages/numpy/lib/function_base.py:380: RuntimeWarning: Mean of empty slice.\n",
      "  avg = a.mean(axis)\n",
      "/usr/local/lib/python3.7/dist-packages/numpy/core/_methods.py:170: RuntimeWarning: invalid value encountered in double_scalars\n",
      "  ret = ret.dtype.type(ret / rcount)\n",
      "  0%|          | 4/50000 [00:00<25:13, 33.04it/s]"
     ]
    },
    {
     "name": "stdout",
     "output_type": "stream",
     "text": [
      "Accuracy on 0 step – nan\n"
     ]
    },
    {
     "name": "stderr",
     "output_type": "stream",
     "text": [
      "  2%|▏         | 1005/50000 [00:20<17:02, 47.90it/s]"
     ]
    },
    {
     "name": "stdout",
     "output_type": "stream",
     "text": [
      "Accuracy on 1000 step – 0.918\n"
     ]
    },
    {
     "name": "stderr",
     "output_type": "stream",
     "text": [
      "  4%|▍         | 2004/50000 [00:40<15:50, 50.47it/s]"
     ]
    },
    {
     "name": "stdout",
     "output_type": "stream",
     "text": [
      "Accuracy on 2000 step – 0.924\n"
     ]
    },
    {
     "name": "stderr",
     "output_type": "stream",
     "text": [
      "  6%|▌         | 3007/50000 [01:01<16:16, 48.13it/s]"
     ]
    },
    {
     "name": "stdout",
     "output_type": "stream",
     "text": [
      "Accuracy on 3000 step – 0.921\n"
     ]
    },
    {
     "name": "stderr",
     "output_type": "stream",
     "text": [
      "  8%|▊         | 4004/50000 [01:22<15:55, 48.12it/s]"
     ]
    },
    {
     "name": "stdout",
     "output_type": "stream",
     "text": [
      "Accuracy on 4000 step – 0.926\n"
     ]
    },
    {
     "name": "stderr",
     "output_type": "stream",
     "text": [
      " 10%|█         | 5007/50000 [01:42<14:57, 50.16it/s]"
     ]
    },
    {
     "name": "stdout",
     "output_type": "stream",
     "text": [
      "Accuracy on 5000 step – 0.926\n"
     ]
    },
    {
     "name": "stderr",
     "output_type": "stream",
     "text": [
      " 12%|█▏        | 6006/50000 [02:03<16:01, 45.74it/s]"
     ]
    },
    {
     "name": "stdout",
     "output_type": "stream",
     "text": [
      "Accuracy on 6000 step – 0.926\n"
     ]
    },
    {
     "name": "stderr",
     "output_type": "stream",
     "text": [
      " 14%|█▍        | 7008/50000 [02:24<15:01, 47.68it/s]"
     ]
    },
    {
     "name": "stdout",
     "output_type": "stream",
     "text": [
      "Accuracy on 7000 step – 0.926\n"
     ]
    },
    {
     "name": "stderr",
     "output_type": "stream",
     "text": [
      " 16%|█▌        | 8007/50000 [02:45<15:38, 44.72it/s]"
     ]
    },
    {
     "name": "stdout",
     "output_type": "stream",
     "text": [
      "Accuracy on 8000 step – 0.925\n"
     ]
    },
    {
     "name": "stderr",
     "output_type": "stream",
     "text": [
      " 18%|█▊        | 9005/50000 [03:05<14:37, 46.73it/s]"
     ]
    },
    {
     "name": "stdout",
     "output_type": "stream",
     "text": [
      "Accuracy on 9000 step – 0.925\n"
     ]
    },
    {
     "name": "stderr",
     "output_type": "stream",
     "text": [
      " 20%|██        | 10007/50000 [03:26<13:33, 49.14it/s]"
     ]
    },
    {
     "name": "stdout",
     "output_type": "stream",
     "text": [
      "Accuracy on 10000 step – 0.925\n"
     ]
    },
    {
     "name": "stderr",
     "output_type": "stream",
     "text": [
      " 22%|██▏       | 11006/50000 [03:46<12:40, 51.24it/s]"
     ]
    },
    {
     "name": "stdout",
     "output_type": "stream",
     "text": [
      "Accuracy on 11000 step – 0.925\n"
     ]
    },
    {
     "name": "stderr",
     "output_type": "stream",
     "text": [
      " 24%|██▍       | 12007/50000 [04:07<12:10, 52.00it/s]"
     ]
    },
    {
     "name": "stdout",
     "output_type": "stream",
     "text": [
      "Accuracy on 12000 step – 0.925\n"
     ]
    },
    {
     "name": "stderr",
     "output_type": "stream",
     "text": [
      " 26%|██▌       | 13004/50000 [04:27<13:03, 47.22it/s]"
     ]
    },
    {
     "name": "stdout",
     "output_type": "stream",
     "text": [
      "Accuracy on 13000 step – 0.925\n"
     ]
    },
    {
     "name": "stderr",
     "output_type": "stream",
     "text": [
      " 28%|██▊       | 14010/50000 [04:48<12:21, 48.53it/s]"
     ]
    },
    {
     "name": "stdout",
     "output_type": "stream",
     "text": [
      "Accuracy on 14000 step – 0.926\n"
     ]
    },
    {
     "name": "stderr",
     "output_type": "stream",
     "text": [
      " 30%|███       | 15005/50000 [05:08<11:54, 48.98it/s]"
     ]
    },
    {
     "name": "stdout",
     "output_type": "stream",
     "text": [
      "Accuracy on 15000 step – 0.926\n"
     ]
    },
    {
     "name": "stderr",
     "output_type": "stream",
     "text": [
      " 32%|███▏      | 16009/50000 [05:29<12:26, 45.56it/s]"
     ]
    },
    {
     "name": "stdout",
     "output_type": "stream",
     "text": [
      "Accuracy on 16000 step – 0.926\n"
     ]
    },
    {
     "name": "stderr",
     "output_type": "stream",
     "text": [
      " 34%|███▍      | 17008/50000 [05:49<12:01, 45.70it/s]"
     ]
    },
    {
     "name": "stdout",
     "output_type": "stream",
     "text": [
      "Accuracy on 17000 step – 0.926\n"
     ]
    },
    {
     "name": "stderr",
     "output_type": "stream",
     "text": [
      " 36%|███▌      | 18011/50000 [06:10<10:51, 49.13it/s]"
     ]
    },
    {
     "name": "stdout",
     "output_type": "stream",
     "text": [
      "Accuracy on 18000 step – 0.927\n"
     ]
    },
    {
     "name": "stderr",
     "output_type": "stream",
     "text": [
      " 38%|███▊      | 19008/50000 [06:32<11:07, 46.46it/s]"
     ]
    },
    {
     "name": "stdout",
     "output_type": "stream",
     "text": [
      "Accuracy on 19000 step – 0.928\n"
     ]
    },
    {
     "name": "stderr",
     "output_type": "stream",
     "text": [
      " 40%|████      | 20006/50000 [06:53<10:17, 48.61it/s]"
     ]
    },
    {
     "name": "stdout",
     "output_type": "stream",
     "text": [
      "Accuracy on 20000 step – 0.927\n"
     ]
    },
    {
     "name": "stderr",
     "output_type": "stream",
     "text": [
      " 42%|████▏     | 21009/50000 [07:13<09:55, 48.71it/s]"
     ]
    },
    {
     "name": "stdout",
     "output_type": "stream",
     "text": [
      "Accuracy on 21000 step – 0.927\n"
     ]
    },
    {
     "name": "stderr",
     "output_type": "stream",
     "text": [
      " 44%|████▍     | 22006/50000 [07:34<10:00, 46.60it/s]"
     ]
    },
    {
     "name": "stdout",
     "output_type": "stream",
     "text": [
      "Accuracy on 22000 step – 0.928\n"
     ]
    },
    {
     "name": "stderr",
     "output_type": "stream",
     "text": [
      " 46%|████▌     | 23005/50000 [07:54<09:29, 47.42it/s]"
     ]
    },
    {
     "name": "stdout",
     "output_type": "stream",
     "text": [
      "Accuracy on 23000 step – 0.929\n"
     ]
    },
    {
     "name": "stderr",
     "output_type": "stream",
     "text": [
      " 48%|████▊     | 24007/50000 [08:15<08:53, 48.73it/s]"
     ]
    },
    {
     "name": "stdout",
     "output_type": "stream",
     "text": [
      "Accuracy on 24000 step – 0.929\n"
     ]
    },
    {
     "name": "stderr",
     "output_type": "stream",
     "text": [
      " 50%|█████     | 25006/50000 [08:36<08:23, 49.66it/s]"
     ]
    },
    {
     "name": "stdout",
     "output_type": "stream",
     "text": [
      "Accuracy on 25000 step – 0.928\n"
     ]
    },
    {
     "name": "stderr",
     "output_type": "stream",
     "text": [
      " 52%|█████▏    | 26006/50000 [08:57<08:32, 46.83it/s]"
     ]
    },
    {
     "name": "stdout",
     "output_type": "stream",
     "text": [
      "Accuracy on 26000 step – 0.928\n"
     ]
    },
    {
     "name": "stderr",
     "output_type": "stream",
     "text": [
      " 54%|█████▍    | 27007/50000 [09:17<08:02, 47.65it/s]"
     ]
    },
    {
     "name": "stdout",
     "output_type": "stream",
     "text": [
      "Accuracy on 27000 step – 0.929\n"
     ]
    },
    {
     "name": "stderr",
     "output_type": "stream",
     "text": [
      " 56%|█████▌    | 28007/50000 [09:38<07:42, 47.54it/s]"
     ]
    },
    {
     "name": "stdout",
     "output_type": "stream",
     "text": [
      "Accuracy on 28000 step – 0.929\n"
     ]
    },
    {
     "name": "stderr",
     "output_type": "stream",
     "text": [
      " 58%|█████▊    | 29010/50000 [09:59<07:09, 48.85it/s]"
     ]
    },
    {
     "name": "stdout",
     "output_type": "stream",
     "text": [
      "Accuracy on 29000 step – 0.929\n"
     ]
    },
    {
     "name": "stderr",
     "output_type": "stream",
     "text": [
      " 60%|██████    | 30006/50000 [10:20<06:43, 49.49it/s]"
     ]
    },
    {
     "name": "stdout",
     "output_type": "stream",
     "text": [
      "Accuracy on 30000 step – 0.929\n"
     ]
    },
    {
     "name": "stderr",
     "output_type": "stream",
     "text": [
      " 62%|██████▏   | 31006/50000 [10:41<06:48, 46.53it/s]"
     ]
    },
    {
     "name": "stdout",
     "output_type": "stream",
     "text": [
      "Accuracy on 31000 step – 0.929\n"
     ]
    },
    {
     "name": "stderr",
     "output_type": "stream",
     "text": [
      " 64%|██████▍   | 32005/50000 [11:01<06:46, 44.29it/s]"
     ]
    },
    {
     "name": "stdout",
     "output_type": "stream",
     "text": [
      "Accuracy on 32000 step – 0.929\n"
     ]
    },
    {
     "name": "stderr",
     "output_type": "stream",
     "text": [
      " 66%|██████▌   | 33005/50000 [11:22<05:51, 48.37it/s]"
     ]
    },
    {
     "name": "stdout",
     "output_type": "stream",
     "text": [
      "Accuracy on 33000 step – 0.929\n"
     ]
    },
    {
     "name": "stderr",
     "output_type": "stream",
     "text": [
      " 68%|██████▊   | 34006/50000 [11:43<05:36, 47.60it/s]"
     ]
    },
    {
     "name": "stdout",
     "output_type": "stream",
     "text": [
      "Accuracy on 34000 step – 0.928\n"
     ]
    },
    {
     "name": "stderr",
     "output_type": "stream",
     "text": [
      " 70%|███████   | 35009/50000 [12:04<05:34, 44.88it/s]"
     ]
    },
    {
     "name": "stdout",
     "output_type": "stream",
     "text": [
      "Accuracy on 35000 step – 0.928\n"
     ]
    },
    {
     "name": "stderr",
     "output_type": "stream",
     "text": [
      " 72%|███████▏  | 36007/50000 [12:25<05:12, 44.71it/s]"
     ]
    },
    {
     "name": "stdout",
     "output_type": "stream",
     "text": [
      "Accuracy on 36000 step – 0.929\n"
     ]
    },
    {
     "name": "stderr",
     "output_type": "stream",
     "text": [
      " 74%|███████▍  | 37005/50000 [12:46<04:42, 46.07it/s]"
     ]
    },
    {
     "name": "stdout",
     "output_type": "stream",
     "text": [
      "Accuracy on 37000 step – 0.929\n"
     ]
    },
    {
     "name": "stderr",
     "output_type": "stream",
     "text": [
      " 76%|███████▌  | 38006/50000 [13:07<04:15, 46.90it/s]"
     ]
    },
    {
     "name": "stdout",
     "output_type": "stream",
     "text": [
      "Accuracy on 38000 step – 0.928\n"
     ]
    },
    {
     "name": "stderr",
     "output_type": "stream",
     "text": [
      " 78%|███████▊  | 39005/50000 [13:29<04:07, 44.50it/s]"
     ]
    },
    {
     "name": "stdout",
     "output_type": "stream",
     "text": [
      "Accuracy on 39000 step – 0.928\n"
     ]
    },
    {
     "name": "stderr",
     "output_type": "stream",
     "text": [
      " 80%|████████  | 40008/50000 [13:50<03:41, 45.04it/s]"
     ]
    },
    {
     "name": "stdout",
     "output_type": "stream",
     "text": [
      "Accuracy on 40000 step – 0.928\n"
     ]
    },
    {
     "name": "stderr",
     "output_type": "stream",
     "text": [
      " 82%|████████▏ | 41008/50000 [14:11<03:03, 49.12it/s]"
     ]
    },
    {
     "name": "stdout",
     "output_type": "stream",
     "text": [
      "Accuracy on 41000 step – 0.928\n"
     ]
    },
    {
     "name": "stderr",
     "output_type": "stream",
     "text": [
      " 84%|████████▍ | 42006/50000 [14:31<02:47, 47.86it/s]"
     ]
    },
    {
     "name": "stdout",
     "output_type": "stream",
     "text": [
      "Accuracy on 42000 step – 0.929\n"
     ]
    },
    {
     "name": "stderr",
     "output_type": "stream",
     "text": [
      " 86%|████████▌ | 43009/50000 [14:52<02:33, 45.50it/s]"
     ]
    },
    {
     "name": "stdout",
     "output_type": "stream",
     "text": [
      "Accuracy on 43000 step – 0.929\n"
     ]
    },
    {
     "name": "stderr",
     "output_type": "stream",
     "text": [
      " 88%|████████▊ | 44006/50000 [15:13<02:07, 47.14it/s]"
     ]
    },
    {
     "name": "stdout",
     "output_type": "stream",
     "text": [
      "Accuracy on 44000 step – 0.929\n"
     ]
    },
    {
     "name": "stderr",
     "output_type": "stream",
     "text": [
      " 90%|█████████ | 45008/50000 [15:33<01:46, 46.99it/s]"
     ]
    },
    {
     "name": "stdout",
     "output_type": "stream",
     "text": [
      "Accuracy on 45000 step – 0.929\n"
     ]
    },
    {
     "name": "stderr",
     "output_type": "stream",
     "text": [
      " 92%|█████████▏| 46006/50000 [15:53<01:26, 46.02it/s]"
     ]
    },
    {
     "name": "stdout",
     "output_type": "stream",
     "text": [
      "Accuracy on 46000 step – 0.928\n"
     ]
    },
    {
     "name": "stderr",
     "output_type": "stream",
     "text": [
      " 94%|█████████▍| 47007/50000 [16:14<01:01, 48.88it/s]"
     ]
    },
    {
     "name": "stdout",
     "output_type": "stream",
     "text": [
      "Accuracy on 47000 step – 0.929\n"
     ]
    },
    {
     "name": "stderr",
     "output_type": "stream",
     "text": [
      " 96%|█████████▌| 48010/50000 [16:35<00:40, 49.34it/s]"
     ]
    },
    {
     "name": "stdout",
     "output_type": "stream",
     "text": [
      "Accuracy on 48000 step – 0.929\n"
     ]
    },
    {
     "name": "stderr",
     "output_type": "stream",
     "text": [
      " 98%|█████████▊| 49008/50000 [16:56<00:19, 50.06it/s]"
     ]
    },
    {
     "name": "stdout",
     "output_type": "stream",
     "text": [
      "Accuracy on 49000 step – 0.929\n"
     ]
    },
    {
     "name": "stderr",
     "output_type": "stream",
     "text": [
      "100%|██████████| 50000/50000 [17:16<00:00, 48.23it/s]\n"
     ]
    }
   ],
   "source": [
    "test_preds = []\n",
    "accuracys = []\n",
    "i = 0\n",
    "\n",
    "for x_test in tqdm(test_texts):\n",
    "\n",
    "    if i % 1000 == 0:\n",
    "        \n",
    "        acc = round(accuracy_score(test_labels[:i], test_preds), 3)\n",
    "        accuracys.append(acc)\n",
    "        print('Accuracy on {} step – {}'.format(i, acc))\n",
    "\n",
    "    i += 1\n",
    "    test_preds.append(get_prediction(x_test))"
   ]
  },
  {
   "cell_type": "code",
   "execution_count": 36,
   "metadata": {
    "colab": {
     "base_uri": "https://localhost:8080/"
    },
    "executionInfo": {
     "elapsed": 190,
     "status": "ok",
     "timestamp": 1637454688842,
     "user": {
      "displayName": "Даниил Степанов",
      "photoUrl": "https://lh3.googleusercontent.com/a/default-user=s64",
      "userId": "14575924048281452148"
     },
     "user_tz": -180
    },
    "id": "KuP_leBl1DyZ",
    "outputId": "a79b4c86-295e-47d9-9d31-29b09991a2a3"
   },
   "outputs": [
    {
     "name": "stdout",
     "output_type": "stream",
     "text": [
      "accuracy_score on 50 000 samples: 0.92878 \n",
      "\n",
      "0.9240579045440929\n",
      "0.927017869699829\n"
     ]
    },
    {
     "name": "stderr",
     "output_type": "stream",
     "text": [
      "/usr/local/lib/python3.7/dist-packages/sklearn/metrics/_classification.py:1308: UndefinedMetricWarning: Precision is ill-defined and being set to 0.0 in labels with no predicted samples. Use `zero_division` parameter to control this behavior.\n",
      "  _warn_prf(average, modifier, msg_start, len(result))\n"
     ]
    }
   ],
   "source": [
    "from sklearn.metrics import accuracy_score, f1_score, precision_score\n",
    "\n",
    "print('accuracy_score on 50 000 samples:', accuracy_score(test_labels, test_preds), '\\n')\n",
    "\n",
    "print(f1_score(test_labels, test_preds, average='weighted'))\n",
    "\n",
    "print(precision_score(test_labels, test_preds, average='weighted'))"
   ]
  },
  {
   "cell_type": "markdown",
   "metadata": {
    "id": "OnEqLr1Jwv3N"
   },
   "source": [
    "# Функция для инференса"
   ]
  },
  {
   "cell_type": "code",
   "execution_count": null,
   "metadata": {
    "id": "FP80JVBUxZie"
   },
   "outputs": [],
   "source": [
    "import string\n",
    "import re\n",
    "import pandas as pd\n",
    "\n",
    "\n",
    "def preprocess_text(x):\n",
    "    x = x.translate(str.maketrans('', '', string.punctuation))\n",
    "    x = x.translate(str.maketrans('', '', string.digits))\n",
    "    x = ''.join([w for w in x if not re.match(r'[A-Z]+', w, re.I)])\n",
    "    return x.strip().lower()\n",
    "\n",
    "\n",
    "def get_prediction(text):\n",
    "    inputs = tokenizer(text, padding=True, truncation=True, max_length=100, return_tensors='pt').to('cpu')\n",
    "    outputs = model(**inputs)\n",
    "    probs = outputs[0].softmax(1).cpu().detach().numpy()[0]\n",
    "    return np.where(probs == probs.max())[0][0], probs.max()\n",
    "\n",
    "\n",
    "def bert_inference(data):\n",
    "    texts = list(data['Наименование'].apply(lambda x: preprocess_text(x)).values)\n",
    "    test_preds = []\n",
    "    for text in tqdm(texts):\n",
    "        pred_label, pred_prob = get_prediction(text)\n",
    "        pred_label = label_df[label_df.id == pred_label].name.iloc[0]\n",
    "        pred_prob = round(pred_prob, 3)\n",
    "        test_preds.append([pred_label, pred_prob])\n",
    "    data[['предсказанная_Подкатегория_текст', 'Вероятность']] = test_preds\n",
    "    return data\n",
    "\n",
    "\n",
    "from transformers import BertTokenizerFast, BertForSequenceClassification\n",
    "\n",
    "path_to_pretrained_model = data_dir+'/model6'\n",
    "\n",
    "model = BertForSequenceClassification.from_pretrained(path_to_pretrained_model)\n",
    "tokenizer = BertTokenizerFast.from_pretrained('sberbank-ai/ruBert-base')\n",
    "\n",
    "label_df = pd.read_csv(data_dir+'label_df.csv')"
   ]
  },
  {
   "cell_type": "code",
   "execution_count": null,
   "metadata": {
    "colab": {
     "base_uri": "https://localhost:8080/",
     "height": 949
    },
    "executionInfo": {
     "elapsed": 156123,
     "status": "ok",
     "timestamp": 1637453142286,
     "user": {
      "displayName": "Даниил Степанов",
      "photoUrl": "https://lh3.googleusercontent.com/a/default-user=s64",
      "userId": "14575924048281452148"
     },
     "user_tz": -180
    },
    "id": "qe3QX3DnyTlY",
    "outputId": "d7656e81-bdde-42ef-ab89-23f396735505"
   },
   "outputs": [
    {
     "name": "stderr",
     "output_type": "stream",
     "text": [
      "100%|██████████| 1000/1000 [02:35<00:00,  6.43it/s]\n"
     ]
    },
    {
     "data": {
      "text/html": [
       "<div>\n",
       "<style scoped>\n",
       "    .dataframe tbody tr th:only-of-type {\n",
       "        vertical-align: middle;\n",
       "    }\n",
       "\n",
       "    .dataframe tbody tr th {\n",
       "        vertical-align: top;\n",
       "    }\n",
       "\n",
       "    .dataframe thead th {\n",
       "        text-align: right;\n",
       "    }\n",
       "</style>\n",
       "<table border=\"1\" class=\"dataframe\">\n",
       "  <thead>\n",
       "    <tr style=\"text-align: right;\">\n",
       "      <th></th>\n",
       "      <th>Наименование</th>\n",
       "      <th>Код_ЕП_РФ_подкатегория</th>\n",
       "      <th>Подкатегория_текст</th>\n",
       "      <th>Код_подкатегория</th>\n",
       "      <th>предсказанная_Подкатегория_текст</th>\n",
       "      <th>Вероятность</th>\n",
       "    </tr>\n",
       "  </thead>\n",
       "  <tbody>\n",
       "    <tr>\n",
       "      <th>273214</th>\n",
       "      <td>посуда из пластмасс для взрослых в том числе с...</td>\n",
       "      <td>2293.0</td>\n",
       "      <td>Изделия культурно-бытового назначения и хозяйс...</td>\n",
       "      <td>71</td>\n",
       "      <td>Посуда, в том числе одноразового применения (к...</td>\n",
       "      <td>0.588</td>\n",
       "    </tr>\n",
       "    <tr>\n",
       "      <th>24082</th>\n",
       "      <td>микардис таблетки  мг  шт упаковки ячейковые к...</td>\n",
       "      <td>9300.1</td>\n",
       "      <td>Лекарственные средства, зарегистрированные в у...</td>\n",
       "      <td>156</td>\n",
       "      <td>Лекарственные средства, зарегистрированные в у...</td>\n",
       "      <td>0.999</td>\n",
       "    </tr>\n",
       "    <tr>\n",
       "      <th>7918</th>\n",
       "      <td>цитрамонлект таблетки  шт упаковки ячейковые к...</td>\n",
       "      <td>9300.1</td>\n",
       "      <td>Лекарственные средства, зарегистрированные в у...</td>\n",
       "      <td>156</td>\n",
       "      <td>Лекарственные средства, зарегистрированные в у...</td>\n",
       "      <td>0.999</td>\n",
       "    </tr>\n",
       "    <tr>\n",
       "      <th>44548</th>\n",
       "      <td>алфлутоп раствор для инъекций  мл ампулы темно...</td>\n",
       "      <td>9300.1</td>\n",
       "      <td>Лекарственные средства, зарегистрированные в у...</td>\n",
       "      <td>156</td>\n",
       "      <td>Лекарственные средства, зарегистрированные в у...</td>\n",
       "      <td>0.998</td>\n",
       "    </tr>\n",
       "    <tr>\n",
       "      <th>241</th>\n",
       "      <td>карбамазепин таблетки  мг  шт упаковки ячейков...</td>\n",
       "      <td>9300.0</td>\n",
       "      <td>Медикаменты, химико-фармацевтическая продукция...</td>\n",
       "      <td>189</td>\n",
       "      <td>Лекарственные средства, зарегистрированные в у...</td>\n",
       "      <td>0.833</td>\n",
       "    </tr>\n",
       "    <tr>\n",
       "      <th>...</th>\n",
       "      <td>...</td>\n",
       "      <td>...</td>\n",
       "      <td>...</td>\n",
       "      <td>...</td>\n",
       "      <td>...</td>\n",
       "      <td>...</td>\n",
       "    </tr>\n",
       "    <tr>\n",
       "      <th>230988</th>\n",
       "      <td>сухие гранулированные корма для непродуктивных...</td>\n",
       "      <td>9219.1</td>\n",
       "      <td>Корма животного происхождения (включая корма д...</td>\n",
       "      <td>145</td>\n",
       "      <td>Корма животного происхождения (включая корма д...</td>\n",
       "      <td>0.558</td>\n",
       "    </tr>\n",
       "    <tr>\n",
       "      <th>209613</th>\n",
       "      <td>зажигалки кроме питаемых от сети марка «» « » ...</td>\n",
       "      <td>9692.2</td>\n",
       "      <td>Зажигалки (кроме питаемых от сети)</td>\n",
       "      <td>62</td>\n",
       "      <td>Зажигалки (кроме питаемых от сети)</td>\n",
       "      <td>0.990</td>\n",
       "    </tr>\n",
       "    <tr>\n",
       "      <th>101803</th>\n",
       "      <td>диклофенак гель для наружного применения    г ...</td>\n",
       "      <td>9300.1</td>\n",
       "      <td>Лекарственные средства, зарегистрированные в у...</td>\n",
       "      <td>156</td>\n",
       "      <td>Лекарственные средства, зарегистрированные в у...</td>\n",
       "      <td>0.982</td>\n",
       "    </tr>\n",
       "    <tr>\n",
       "      <th>61317</th>\n",
       "      <td>сенаде таблетки  мг  шт упаковки ячейковые кон...</td>\n",
       "      <td>9300.1</td>\n",
       "      <td>Лекарственные средства, зарегистрированные в у...</td>\n",
       "      <td>156</td>\n",
       "      <td>Лекарственные средства, зарегистрированные в у...</td>\n",
       "      <td>0.999</td>\n",
       "    </tr>\n",
       "    <tr>\n",
       "      <th>81319</th>\n",
       "      <td>натрия хлорид раствор для инфузий   мл бутылки...</td>\n",
       "      <td>9300.1</td>\n",
       "      <td>Лекарственные средства, зарегистрированные в у...</td>\n",
       "      <td>156</td>\n",
       "      <td>Лекарственные средства, зарегистрированные в у...</td>\n",
       "      <td>0.999</td>\n",
       "    </tr>\n",
       "  </tbody>\n",
       "</table>\n",
       "<p>1000 rows × 6 columns</p>\n",
       "</div>"
      ],
      "text/plain": [
       "                                             Наименование  ...  Вероятность\n",
       "273214  посуда из пластмасс для взрослых в том числе с...  ...        0.588\n",
       "24082   микардис таблетки  мг  шт упаковки ячейковые к...  ...        0.999\n",
       "7918    цитрамонлект таблетки  шт упаковки ячейковые к...  ...        0.999\n",
       "44548   алфлутоп раствор для инъекций  мл ампулы темно...  ...        0.998\n",
       "241     карбамазепин таблетки  мг  шт упаковки ячейков...  ...        0.833\n",
       "...                                                   ...  ...          ...\n",
       "230988  сухие гранулированные корма для непродуктивных...  ...        0.558\n",
       "209613  зажигалки кроме питаемых от сети марка «» « » ...  ...        0.990\n",
       "101803  диклофенак гель для наружного применения    г ...  ...        0.982\n",
       "61317   сенаде таблетки  мг  шт упаковки ячейковые кон...  ...        0.999\n",
       "81319   натрия хлорид раствор для инфузий   мл бутылки...  ...        0.999\n",
       "\n",
       "[1000 rows x 6 columns]"
      ]
     },
     "execution_count": 25,
     "metadata": {},
     "output_type": "execute_result"
    }
   ],
   "source": [
    "bert_inference(test_data.sample(1000))"
   ]
  },
  {
   "cell_type": "markdown",
   "metadata": {
    "id": "dEd46B2oAwd2"
   },
   "source": [
    "# Интерпретация модели"
   ]
  },
  {
   "cell_type": "code",
   "execution_count": null,
   "metadata": {
    "colab": {
     "base_uri": "https://localhost:8080/"
    },
    "collapsed": true,
    "execution": {
     "iopub.execute_input": "2021-11-20T12:33:08.187265Z",
     "iopub.status.busy": "2021-11-20T12:33:08.186979Z",
     "iopub.status.idle": "2021-11-20T12:33:18.877736Z",
     "shell.execute_reply": "2021-11-20T12:33:18.876924Z",
     "shell.execute_reply.started": "2021-11-20T12:33:08.187224Z"
    },
    "executionInfo": {
     "elapsed": 490,
     "status": "ok",
     "timestamp": 1637430969808,
     "user": {
      "displayName": "Даниил Степанов",
      "photoUrl": "https://lh3.googleusercontent.com/a/default-user=s64",
      "userId": "04022231734681409017"
     },
     "user_tz": -180
    },
    "id": "_tyuEKcDY1W7",
    "jupyter": {
     "outputs_hidden": true
    },
    "outputId": "f53b1e38-d225-4ea1-a1ce-16e5e97cb08e"
   },
   "outputs": [
    {
     "name": "stdout",
     "output_type": "stream",
     "text": [
      "Installing collected packages: captum, transformers-interpret\n",
      "Successfully installed captum-0.4.1 transformers-interpret-0.5.2\n"
     ]
    }
   ],
   "source": [
    "!pip install transformers-interpret"
   ]
  },
  {
   "cell_type": "code",
   "execution_count": null,
   "metadata": {
    "execution": {
     "iopub.execute_input": "2021-11-20T12:37:45.757986Z",
     "iopub.status.busy": "2021-11-20T12:37:45.757716Z",
     "iopub.status.idle": "2021-11-20T12:37:45.849145Z",
     "shell.execute_reply": "2021-11-20T12:37:45.848115Z",
     "shell.execute_reply.started": "2021-11-20T12:37:45.757955Z"
    },
    "id": "TGoEg6NnY1W7"
   },
   "outputs": [],
   "source": [
    "from transformers import BertTokenizerFast, BertForSequenceClassification\n",
    "from transformers_interpret import SequenceClassificationExplainer\n",
    "\n",
    "model_ = BertForSequenceClassification.from_pretrained(data_dir+'/model2')\n",
    "\n",
    "tokenizer = BertTokenizerFast.from_pretrained('sberbank-ai/ruBert-base')"
   ]
  },
  {
   "cell_type": "code",
   "execution_count": null,
   "metadata": {
    "execution": {
     "iopub.execute_input": "2021-11-20T12:36:51.970120Z",
     "iopub.status.busy": "2021-11-20T12:36:51.969043Z",
     "iopub.status.idle": "2021-11-20T12:36:52.051934Z",
     "shell.execute_reply": "2021-11-20T12:36:52.050833Z",
     "shell.execute_reply.started": "2021-11-20T12:36:51.970071Z"
    },
    "id": "STCiDv3GY1W7"
   },
   "outputs": [],
   "source": [
    "cls_explainer = SequenceClassificationExplainer(model_, tokenizer)\n",
    "word_attributions = cls_explainer(X_val[0])"
   ]
  },
  {
   "cell_type": "code",
   "execution_count": null,
   "metadata": {
    "colab": {
     "base_uri": "https://localhost:8080/"
    },
    "execution": {
     "iopub.execute_input": "2021-11-20T12:36:54.464324Z",
     "iopub.status.busy": "2021-11-20T12:36:54.464050Z",
     "iopub.status.idle": "2021-11-20T12:36:54.505024Z",
     "shell.execute_reply": "2021-11-20T12:36:54.503949Z",
     "shell.execute_reply.started": "2021-11-20T12:36:54.464293Z"
    },
    "executionInfo": {
     "elapsed": 13,
     "status": "ok",
     "timestamp": 1637430999474,
     "user": {
      "displayName": "Даниил Степанов",
      "photoUrl": "https://lh3.googleusercontent.com/a/default-user=s64",
      "userId": "04022231734681409017"
     },
     "user_tz": -180
    },
    "id": "ViStiZG7Y1W7",
    "outputId": "cedba58e-ca99-457f-d00a-b7901c9db58e"
   },
   "outputs": [
    {
     "data": {
      "text/plain": [
       "[('[CLS]', 0.0),\n",
       " ('диф', -0.2746449512509223),\n",
       " ('##люка', -0.007256275827461156),\n",
       " ('##н', -0.01630014240946843),\n",
       " ('порошок', 0.058419181658606885),\n",
       " ('для', -0.08696114882494556),\n",
       " ('приготовления', -0.12324108376767691),\n",
       " ('су', -0.007056759491409794),\n",
       " ('##спен', -0.03700200667123896),\n",
       " ('##зии', 0.0277030457814121),\n",
       " ('для', 0.0071234709107578995),\n",
       " ('приема', -0.024686156975558548),\n",
       " ('внутрь', 0.033667412934518644),\n",
       " ('мг', 0.26660069249261786),\n",
       " ('мл', 0.07303240504601471),\n",
       " ('флакон', 0.22518619195498454),\n",
       " ('##ы', -0.012670780749270454),\n",
       " ('в', -0.07372753425691753),\n",
       " ('комплекте', -0.010989733368204942),\n",
       " ('с', -0.03141239640383053),\n",
       " ('лож', 0.09436570691010775),\n",
       " ('##ко', -0.0066625076987905365),\n",
       " ('##и', -0.004980702077321382),\n",
       " ('мерно', -0.049673472264284035),\n",
       " ('##и', 0.04792532995109837),\n",
       " ('пачки', 0.2715367688769194),\n",
       " ('картон', 0.2534528970195248),\n",
       " ('##ные', 0.07552983380568992),\n",
       " ('год', 0.5431859901912499),\n",
       " ('##ен', 0.09807008631661074),\n",
       " ('до', 0.3620264841415714),\n",
       " ('код', 0.13113836625564057),\n",
       " ('т', -0.03720076746245189),\n",
       " ('##н', 0.07897515251110594),\n",
       " ('в', -0.03316387012103185),\n",
       " ('##эд', -0.03280285705009088),\n",
       " ('контракт', 0.08713479702103076),\n",
       " ('№', 0.04092473150369613),\n",
       " ('от', 0.156362714803823),\n",
       " ('ин', 0.040178414231631),\n",
       " ('##вои', -0.01900407063428453),\n",
       " ('##с', 0.08306286827467908),\n",
       " ('№', -0.021109314065322977),\n",
       " ('от', 0.3116234537573239),\n",
       " ('[SEP]', 0.0)]"
      ]
     },
     "execution_count": 35,
     "metadata": {},
     "output_type": "execute_result"
    }
   ],
   "source": [
    "word_attributions"
   ]
  },
  {
   "cell_type": "code",
   "execution_count": null,
   "metadata": {
    "colab": {
     "base_uri": "https://localhost:8080/",
     "height": 37
    },
    "execution": {
     "iopub.execute_input": "2021-11-20T12:35:06.489428Z",
     "iopub.status.busy": "2021-11-20T12:35:06.488702Z",
     "iopub.status.idle": "2021-11-20T12:35:06.527423Z",
     "shell.execute_reply": "2021-11-20T12:35:06.526427Z",
     "shell.execute_reply.started": "2021-11-20T12:35:06.489389Z"
    },
    "executionInfo": {
     "elapsed": 9,
     "status": "ok",
     "timestamp": 1637430999475,
     "user": {
      "displayName": "Даниил Степанов",
      "photoUrl": "https://lh3.googleusercontent.com/a/default-user=s64",
      "userId": "04022231734681409017"
     },
     "user_tz": -180
    },
    "id": "z_uN2pOjY1W7",
    "outputId": "933cbf12-e50c-4d9e-980a-6ecbeb3f12cd"
   },
   "outputs": [
    {
     "data": {
      "application/vnd.google.colaboratory.intrinsic+json": {
       "type": "string"
      },
      "text/plain": [
       "'LABEL_156'"
      ]
     },
     "execution_count": 36,
     "metadata": {},
     "output_type": "execute_result"
    }
   ],
   "source": [
    "cls_explainer.predicted_class_name"
   ]
  },
  {
   "cell_type": "code",
   "execution_count": null,
   "metadata": {
    "colab": {
     "base_uri": "https://localhost:8080/",
     "height": 261
    },
    "execution": {
     "iopub.execute_input": "2021-11-20T12:35:07.028684Z",
     "iopub.status.busy": "2021-11-20T12:35:07.028057Z",
     "iopub.status.idle": "2021-11-20T12:35:07.065876Z",
     "shell.execute_reply": "2021-11-20T12:35:07.064848Z",
     "shell.execute_reply.started": "2021-11-20T12:35:07.028651Z"
    },
    "executionInfo": {
     "elapsed": 481,
     "status": "ok",
     "timestamp": 1637430999949,
     "user": {
      "displayName": "Даниил Степанов",
      "photoUrl": "https://lh3.googleusercontent.com/a/default-user=s64",
      "userId": "04022231734681409017"
     },
     "user_tz": -180
    },
    "id": "jKW_voIiY1W7",
    "outputId": "ee107e77-86b6-4686-cf14-a89388e03043"
   },
   "outputs": [
    {
     "data": {
      "text/html": [
       "<table width: 100%><div style=\"border-top: 1px solid; margin-top: 5px;             padding-top: 5px; display: inline-block\"><b>Legend: </b><span style=\"display: inline-block; width: 10px; height: 10px;                 border: 1px solid; background-color:                 hsl(0, 75%, 60%)\"></span> Negative  <span style=\"display: inline-block; width: 10px; height: 10px;                 border: 1px solid; background-color:                 hsl(0, 75%, 100%)\"></span> Neutral  <span style=\"display: inline-block; width: 10px; height: 10px;                 border: 1px solid; background-color:                 hsl(120, 75%, 50%)\"></span> Positive  </div><tr><th>True Label</th><th>Predicted Label</th><th>Attribution Label</th><th>Attribution Score</th><th>Word Importance</th><tr><td><text style=\"padding-right:2em\"><b>156</b></text></td><td><text style=\"padding-right:2em\"><b>LABEL_156 (1.00)</b></text></td><td><text style=\"padding-right:2em\"><b>LABEL_156</b></text></td><td><text style=\"padding-right:2em\"><b>2.46</b></text></td><td><mark style=\"background-color: hsl(0, 75%, 100%); opacity:1.0;                     line-height:1.75\"><font color=\"black\"> [CLS]                    </font></mark><mark style=\"background-color: hsl(0, 75%, 90%); opacity:1.0;                     line-height:1.75\"><font color=\"black\"> диф                    </font></mark><mark style=\"background-color: hsl(0, 75%, 100%); opacity:1.0;                     line-height:1.75\"><font color=\"black\"> ##люка                    </font></mark><mark style=\"background-color: hsl(0, 75%, 100%); opacity:1.0;                     line-height:1.75\"><font color=\"black\"> ##н                    </font></mark><mark style=\"background-color: hsl(120, 75%, 98%); opacity:1.0;                     line-height:1.75\"><font color=\"black\"> порошок                    </font></mark><mark style=\"background-color: hsl(0, 75%, 97%); opacity:1.0;                     line-height:1.75\"><font color=\"black\"> для                    </font></mark><mark style=\"background-color: hsl(0, 75%, 96%); opacity:1.0;                     line-height:1.75\"><font color=\"black\"> приготовления                    </font></mark><mark style=\"background-color: hsl(0, 75%, 100%); opacity:1.0;                     line-height:1.75\"><font color=\"black\"> су                    </font></mark><mark style=\"background-color: hsl(0, 75%, 99%); opacity:1.0;                     line-height:1.75\"><font color=\"black\"> ##спен                    </font></mark><mark style=\"background-color: hsl(120, 75%, 99%); opacity:1.0;                     line-height:1.75\"><font color=\"black\"> ##зии                    </font></mark><mark style=\"background-color: hsl(120, 75%, 100%); opacity:1.0;                     line-height:1.75\"><font color=\"black\"> для                    </font></mark><mark style=\"background-color: hsl(0, 75%, 100%); opacity:1.0;                     line-height:1.75\"><font color=\"black\"> приема                    </font></mark><mark style=\"background-color: hsl(120, 75%, 99%); opacity:1.0;                     line-height:1.75\"><font color=\"black\"> внутрь                    </font></mark><mark style=\"background-color: hsl(120, 75%, 87%); opacity:1.0;                     line-height:1.75\"><font color=\"black\"> мг                    </font></mark><mark style=\"background-color: hsl(120, 75%, 97%); opacity:1.0;                     line-height:1.75\"><font color=\"black\"> мл                    </font></mark><mark style=\"background-color: hsl(120, 75%, 89%); opacity:1.0;                     line-height:1.75\"><font color=\"black\"> флакон                    </font></mark><mark style=\"background-color: hsl(0, 75%, 100%); opacity:1.0;                     line-height:1.75\"><font color=\"black\"> ##ы                    </font></mark><mark style=\"background-color: hsl(0, 75%, 98%); opacity:1.0;                     line-height:1.75\"><font color=\"black\"> в                    </font></mark><mark style=\"background-color: hsl(0, 75%, 100%); opacity:1.0;                     line-height:1.75\"><font color=\"black\"> комплекте                    </font></mark><mark style=\"background-color: hsl(0, 75%, 99%); opacity:1.0;                     line-height:1.75\"><font color=\"black\"> с                    </font></mark><mark style=\"background-color: hsl(120, 75%, 96%); opacity:1.0;                     line-height:1.75\"><font color=\"black\"> лож                    </font></mark><mark style=\"background-color: hsl(0, 75%, 100%); opacity:1.0;                     line-height:1.75\"><font color=\"black\"> ##ко                    </font></mark><mark style=\"background-color: hsl(0, 75%, 100%); opacity:1.0;                     line-height:1.75\"><font color=\"black\"> ##и                    </font></mark><mark style=\"background-color: hsl(0, 75%, 99%); opacity:1.0;                     line-height:1.75\"><font color=\"black\"> мерно                    </font></mark><mark style=\"background-color: hsl(120, 75%, 98%); opacity:1.0;                     line-height:1.75\"><font color=\"black\"> ##и                    </font></mark><mark style=\"background-color: hsl(120, 75%, 87%); opacity:1.0;                     line-height:1.75\"><font color=\"black\"> пачки                    </font></mark><mark style=\"background-color: hsl(120, 75%, 88%); opacity:1.0;                     line-height:1.75\"><font color=\"black\"> картон                    </font></mark><mark style=\"background-color: hsl(120, 75%, 97%); opacity:1.0;                     line-height:1.75\"><font color=\"black\"> ##ные                    </font></mark><mark style=\"background-color: hsl(120, 75%, 73%); opacity:1.0;                     line-height:1.75\"><font color=\"black\"> год                    </font></mark><mark style=\"background-color: hsl(120, 75%, 96%); opacity:1.0;                     line-height:1.75\"><font color=\"black\"> ##ен                    </font></mark><mark style=\"background-color: hsl(120, 75%, 82%); opacity:1.0;                     line-height:1.75\"><font color=\"black\"> до                    </font></mark><mark style=\"background-color: hsl(120, 75%, 94%); opacity:1.0;                     line-height:1.75\"><font color=\"black\"> код                    </font></mark><mark style=\"background-color: hsl(0, 75%, 99%); opacity:1.0;                     line-height:1.75\"><font color=\"black\"> т                    </font></mark><mark style=\"background-color: hsl(120, 75%, 97%); opacity:1.0;                     line-height:1.75\"><font color=\"black\"> ##н                    </font></mark><mark style=\"background-color: hsl(0, 75%, 99%); opacity:1.0;                     line-height:1.75\"><font color=\"black\"> в                    </font></mark><mark style=\"background-color: hsl(0, 75%, 99%); opacity:1.0;                     line-height:1.75\"><font color=\"black\"> ##эд                    </font></mark><mark style=\"background-color: hsl(120, 75%, 96%); opacity:1.0;                     line-height:1.75\"><font color=\"black\"> контракт                    </font></mark><mark style=\"background-color: hsl(120, 75%, 98%); opacity:1.0;                     line-height:1.75\"><font color=\"black\"> №                    </font></mark><mark style=\"background-color: hsl(120, 75%, 93%); opacity:1.0;                     line-height:1.75\"><font color=\"black\"> от                    </font></mark><mark style=\"background-color: hsl(120, 75%, 98%); opacity:1.0;                     line-height:1.75\"><font color=\"black\"> ин                    </font></mark><mark style=\"background-color: hsl(0, 75%, 100%); opacity:1.0;                     line-height:1.75\"><font color=\"black\"> ##вои                    </font></mark><mark style=\"background-color: hsl(120, 75%, 96%); opacity:1.0;                     line-height:1.75\"><font color=\"black\"> ##с                    </font></mark><mark style=\"background-color: hsl(0, 75%, 100%); opacity:1.0;                     line-height:1.75\"><font color=\"black\"> №                    </font></mark><mark style=\"background-color: hsl(120, 75%, 85%); opacity:1.0;                     line-height:1.75\"><font color=\"black\"> от                    </font></mark><mark style=\"background-color: hsl(0, 75%, 100%); opacity:1.0;                     line-height:1.75\"><font color=\"black\"> [SEP]                    </font></mark></td><tr></table>"
      ],
      "text/plain": [
       "<IPython.core.display.HTML object>"
      ]
     },
     "metadata": {},
     "output_type": "display_data"
    },
    {
     "data": {
      "text/html": [
       "<table width: 100%><div style=\"border-top: 1px solid; margin-top: 5px;             padding-top: 5px; display: inline-block\"><b>Legend: </b><span style=\"display: inline-block; width: 10px; height: 10px;                 border: 1px solid; background-color:                 hsl(0, 75%, 60%)\"></span> Negative  <span style=\"display: inline-block; width: 10px; height: 10px;                 border: 1px solid; background-color:                 hsl(0, 75%, 100%)\"></span> Neutral  <span style=\"display: inline-block; width: 10px; height: 10px;                 border: 1px solid; background-color:                 hsl(120, 75%, 50%)\"></span> Positive  </div><tr><th>True Label</th><th>Predicted Label</th><th>Attribution Label</th><th>Attribution Score</th><th>Word Importance</th><tr><td><text style=\"padding-right:2em\"><b>156</b></text></td><td><text style=\"padding-right:2em\"><b>LABEL_156 (1.00)</b></text></td><td><text style=\"padding-right:2em\"><b>LABEL_156</b></text></td><td><text style=\"padding-right:2em\"><b>2.46</b></text></td><td><mark style=\"background-color: hsl(0, 75%, 100%); opacity:1.0;                     line-height:1.75\"><font color=\"black\"> [CLS]                    </font></mark><mark style=\"background-color: hsl(0, 75%, 90%); opacity:1.0;                     line-height:1.75\"><font color=\"black\"> диф                    </font></mark><mark style=\"background-color: hsl(0, 75%, 100%); opacity:1.0;                     line-height:1.75\"><font color=\"black\"> ##люка                    </font></mark><mark style=\"background-color: hsl(0, 75%, 100%); opacity:1.0;                     line-height:1.75\"><font color=\"black\"> ##н                    </font></mark><mark style=\"background-color: hsl(120, 75%, 98%); opacity:1.0;                     line-height:1.75\"><font color=\"black\"> порошок                    </font></mark><mark style=\"background-color: hsl(0, 75%, 97%); opacity:1.0;                     line-height:1.75\"><font color=\"black\"> для                    </font></mark><mark style=\"background-color: hsl(0, 75%, 96%); opacity:1.0;                     line-height:1.75\"><font color=\"black\"> приготовления                    </font></mark><mark style=\"background-color: hsl(0, 75%, 100%); opacity:1.0;                     line-height:1.75\"><font color=\"black\"> су                    </font></mark><mark style=\"background-color: hsl(0, 75%, 99%); opacity:1.0;                     line-height:1.75\"><font color=\"black\"> ##спен                    </font></mark><mark style=\"background-color: hsl(120, 75%, 99%); opacity:1.0;                     line-height:1.75\"><font color=\"black\"> ##зии                    </font></mark><mark style=\"background-color: hsl(120, 75%, 100%); opacity:1.0;                     line-height:1.75\"><font color=\"black\"> для                    </font></mark><mark style=\"background-color: hsl(0, 75%, 100%); opacity:1.0;                     line-height:1.75\"><font color=\"black\"> приема                    </font></mark><mark style=\"background-color: hsl(120, 75%, 99%); opacity:1.0;                     line-height:1.75\"><font color=\"black\"> внутрь                    </font></mark><mark style=\"background-color: hsl(120, 75%, 87%); opacity:1.0;                     line-height:1.75\"><font color=\"black\"> мг                    </font></mark><mark style=\"background-color: hsl(120, 75%, 97%); opacity:1.0;                     line-height:1.75\"><font color=\"black\"> мл                    </font></mark><mark style=\"background-color: hsl(120, 75%, 89%); opacity:1.0;                     line-height:1.75\"><font color=\"black\"> флакон                    </font></mark><mark style=\"background-color: hsl(0, 75%, 100%); opacity:1.0;                     line-height:1.75\"><font color=\"black\"> ##ы                    </font></mark><mark style=\"background-color: hsl(0, 75%, 98%); opacity:1.0;                     line-height:1.75\"><font color=\"black\"> в                    </font></mark><mark style=\"background-color: hsl(0, 75%, 100%); opacity:1.0;                     line-height:1.75\"><font color=\"black\"> комплекте                    </font></mark><mark style=\"background-color: hsl(0, 75%, 99%); opacity:1.0;                     line-height:1.75\"><font color=\"black\"> с                    </font></mark><mark style=\"background-color: hsl(120, 75%, 96%); opacity:1.0;                     line-height:1.75\"><font color=\"black\"> лож                    </font></mark><mark style=\"background-color: hsl(0, 75%, 100%); opacity:1.0;                     line-height:1.75\"><font color=\"black\"> ##ко                    </font></mark><mark style=\"background-color: hsl(0, 75%, 100%); opacity:1.0;                     line-height:1.75\"><font color=\"black\"> ##и                    </font></mark><mark style=\"background-color: hsl(0, 75%, 99%); opacity:1.0;                     line-height:1.75\"><font color=\"black\"> мерно                    </font></mark><mark style=\"background-color: hsl(120, 75%, 98%); opacity:1.0;                     line-height:1.75\"><font color=\"black\"> ##и                    </font></mark><mark style=\"background-color: hsl(120, 75%, 87%); opacity:1.0;                     line-height:1.75\"><font color=\"black\"> пачки                    </font></mark><mark style=\"background-color: hsl(120, 75%, 88%); opacity:1.0;                     line-height:1.75\"><font color=\"black\"> картон                    </font></mark><mark style=\"background-color: hsl(120, 75%, 97%); opacity:1.0;                     line-height:1.75\"><font color=\"black\"> ##ные                    </font></mark><mark style=\"background-color: hsl(120, 75%, 73%); opacity:1.0;                     line-height:1.75\"><font color=\"black\"> год                    </font></mark><mark style=\"background-color: hsl(120, 75%, 96%); opacity:1.0;                     line-height:1.75\"><font color=\"black\"> ##ен                    </font></mark><mark style=\"background-color: hsl(120, 75%, 82%); opacity:1.0;                     line-height:1.75\"><font color=\"black\"> до                    </font></mark><mark style=\"background-color: hsl(120, 75%, 94%); opacity:1.0;                     line-height:1.75\"><font color=\"black\"> код                    </font></mark><mark style=\"background-color: hsl(0, 75%, 99%); opacity:1.0;                     line-height:1.75\"><font color=\"black\"> т                    </font></mark><mark style=\"background-color: hsl(120, 75%, 97%); opacity:1.0;                     line-height:1.75\"><font color=\"black\"> ##н                    </font></mark><mark style=\"background-color: hsl(0, 75%, 99%); opacity:1.0;                     line-height:1.75\"><font color=\"black\"> в                    </font></mark><mark style=\"background-color: hsl(0, 75%, 99%); opacity:1.0;                     line-height:1.75\"><font color=\"black\"> ##эд                    </font></mark><mark style=\"background-color: hsl(120, 75%, 96%); opacity:1.0;                     line-height:1.75\"><font color=\"black\"> контракт                    </font></mark><mark style=\"background-color: hsl(120, 75%, 98%); opacity:1.0;                     line-height:1.75\"><font color=\"black\"> №                    </font></mark><mark style=\"background-color: hsl(120, 75%, 93%); opacity:1.0;                     line-height:1.75\"><font color=\"black\"> от                    </font></mark><mark style=\"background-color: hsl(120, 75%, 98%); opacity:1.0;                     line-height:1.75\"><font color=\"black\"> ин                    </font></mark><mark style=\"background-color: hsl(0, 75%, 100%); opacity:1.0;                     line-height:1.75\"><font color=\"black\"> ##вои                    </font></mark><mark style=\"background-color: hsl(120, 75%, 96%); opacity:1.0;                     line-height:1.75\"><font color=\"black\"> ##с                    </font></mark><mark style=\"background-color: hsl(0, 75%, 100%); opacity:1.0;                     line-height:1.75\"><font color=\"black\"> №                    </font></mark><mark style=\"background-color: hsl(120, 75%, 85%); opacity:1.0;                     line-height:1.75\"><font color=\"black\"> от                    </font></mark><mark style=\"background-color: hsl(0, 75%, 100%); opacity:1.0;                     line-height:1.75\"><font color=\"black\"> [SEP]                    </font></mark></td><tr></table>"
      ],
      "text/plain": [
       "<IPython.core.display.HTML object>"
      ]
     },
     "execution_count": 37,
     "metadata": {},
     "output_type": "execute_result"
    }
   ],
   "source": [
    "cls_explainer.visualize(\"ruBert.html\")"
   ]
  },
  {
   "cell_type": "code",
   "execution_count": null,
   "metadata": {
    "colab": {
     "base_uri": "https://localhost:8080/",
     "height": 54
    },
    "executionInfo": {
     "elapsed": 230,
     "status": "ok",
     "timestamp": 1637431014807,
     "user": {
      "displayName": "Даниил Степанов",
      "photoUrl": "https://lh3.googleusercontent.com/a/default-user=s64",
      "userId": "04022231734681409017"
     },
     "user_tz": -180
    },
    "id": "1nTX7oBDY1W7",
    "outputId": "b307594e-53f2-4136-dd65-80cdb338b26f"
   },
   "outputs": [
    {
     "data": {
      "application/vnd.google.colaboratory.intrinsic+json": {
       "type": "string"
      },
      "text/plain": [
       "'Лекарственные средства, зарегистрированные в установленном порядке и внесенные в государственный реестр, состоящие из смешанных и несмешанных продуктов для использования в терапевтических или профилактических целях, расфасованные в виде дозированных лекарственных форм или в упаковки для розничной продажи'"
      ]
     },
     "execution_count": 39,
     "metadata": {},
     "output_type": "execute_result"
    }
   ],
   "source": [
    "label_names[156]"
   ]
  },
  {
   "cell_type": "code",
   "execution_count": null,
   "metadata": {
    "colab": {
     "base_uri": "https://localhost:8080/"
    },
    "executionInfo": {
     "elapsed": 7,
     "status": "ok",
     "timestamp": 1637431000661,
     "user": {
      "displayName": "Даниил Степанов",
      "photoUrl": "https://lh3.googleusercontent.com/a/default-user=s64",
      "userId": "04022231734681409017"
     },
     "user_tz": -180
    },
    "id": "C5JMcJcCAzRE",
    "outputId": "c916a478-0be7-4b22-adbd-930e313eac36"
   },
   "outputs": [
    {
     "data": {
      "text/plain": [
       "156"
      ]
     },
     "execution_count": 38,
     "metadata": {},
     "output_type": "execute_result"
    }
   ],
   "source": [
    "y_val[0]"
   ]
  },
  {
   "cell_type": "code",
   "execution_count": null,
   "metadata": {
    "id": "i94il1tNlc4L"
   },
   "outputs": [],
   "source": []
  }
 ],
 "metadata": {
  "accelerator": "GPU",
  "colab": {
   "collapsed_sections": [
    "ZoDqZXcsAkeS",
    "dEd46B2oAwd2"
   ],
   "name": "notebook01b5d73a59.ipynb",
   "provenance": []
  },
  "kernelspec": {
   "display_name": "Python 3 (ipykernel)",
   "language": "python",
   "name": "python3"
  },
  "language_info": {
   "codemirror_mode": {
    "name": "ipython",
    "version": 3
   },
   "file_extension": ".py",
   "mimetype": "text/x-python",
   "name": "python",
   "nbconvert_exporter": "python",
   "pygments_lexer": "ipython3",
   "version": "3.9.7"
  },
  "widgets": {
   "application/vnd.jupyter.widget-state+json": {
    "0286cf224cbb48969345534b9cebfbe5": {
     "model_module": "@jupyter-widgets/controls",
     "model_module_version": "1.5.0",
     "model_name": "DescriptionStyleModel",
     "state": {
      "_model_module": "@jupyter-widgets/controls",
      "_model_module_version": "1.5.0",
      "_model_name": "DescriptionStyleModel",
      "_view_count": null,
      "_view_module": "@jupyter-widgets/base",
      "_view_module_version": "1.2.0",
      "_view_name": "StyleView",
      "description_width": ""
     }
    },
    "082ca0e36fe9441a8c153262b8129829": {
     "model_module": "@jupyter-widgets/controls",
     "model_module_version": "1.5.0",
     "model_name": "HTMLModel",
     "state": {
      "_dom_classes": [],
      "_model_module": "@jupyter-widgets/controls",
      "_model_module_version": "1.5.0",
      "_model_name": "HTMLModel",
      "_view_count": null,
      "_view_module": "@jupyter-widgets/controls",
      "_view_module_version": "1.5.0",
      "_view_name": "HTMLView",
      "description": "",
      "description_tooltip": null,
      "layout": "IPY_MODEL_30746cacc2184fc4acf07a90c4194113",
      "placeholder": "​",
      "style": "IPY_MODEL_2842b6834cf3433586d17d4f7e1c56f8",
      "value": " 521/521 [00:00&lt;00:00, 9.94kB/s]"
     }
    },
    "13219318afc146bc94e1c7780fe1af40": {
     "model_module": "@jupyter-widgets/controls",
     "model_module_version": "1.5.0",
     "model_name": "FloatProgressModel",
     "state": {
      "_dom_classes": [],
      "_model_module": "@jupyter-widgets/controls",
      "_model_module_version": "1.5.0",
      "_model_name": "FloatProgressModel",
      "_view_count": null,
      "_view_module": "@jupyter-widgets/controls",
      "_view_module_version": "1.5.0",
      "_view_name": "ProgressView",
      "bar_style": "success",
      "description": "",
      "description_tooltip": null,
      "layout": "IPY_MODEL_c5ef7c07daed4c678d20dcd6587565a2",
      "max": 1780720,
      "min": 0,
      "orientation": "horizontal",
      "style": "IPY_MODEL_57d0e649f51d484a9ff7d3d5d74caa72",
      "value": 1780720
     }
    },
    "2842b6834cf3433586d17d4f7e1c56f8": {
     "model_module": "@jupyter-widgets/controls",
     "model_module_version": "1.5.0",
     "model_name": "DescriptionStyleModel",
     "state": {
      "_model_module": "@jupyter-widgets/controls",
      "_model_module_version": "1.5.0",
      "_model_name": "DescriptionStyleModel",
      "_view_count": null,
      "_view_module": "@jupyter-widgets/base",
      "_view_module_version": "1.2.0",
      "_view_name": "StyleView",
      "description_width": ""
     }
    },
    "30746cacc2184fc4acf07a90c4194113": {
     "model_module": "@jupyter-widgets/base",
     "model_module_version": "1.2.0",
     "model_name": "LayoutModel",
     "state": {
      "_model_module": "@jupyter-widgets/base",
      "_model_module_version": "1.2.0",
      "_model_name": "LayoutModel",
      "_view_count": null,
      "_view_module": "@jupyter-widgets/base",
      "_view_module_version": "1.2.0",
      "_view_name": "LayoutView",
      "align_content": null,
      "align_items": null,
      "align_self": null,
      "border": null,
      "bottom": null,
      "display": null,
      "flex": null,
      "flex_flow": null,
      "grid_area": null,
      "grid_auto_columns": null,
      "grid_auto_flow": null,
      "grid_auto_rows": null,
      "grid_column": null,
      "grid_gap": null,
      "grid_row": null,
      "grid_template_areas": null,
      "grid_template_columns": null,
      "grid_template_rows": null,
      "height": null,
      "justify_content": null,
      "justify_items": null,
      "left": null,
      "margin": null,
      "max_height": null,
      "max_width": null,
      "min_height": null,
      "min_width": null,
      "object_fit": null,
      "object_position": null,
      "order": null,
      "overflow": null,
      "overflow_x": null,
      "overflow_y": null,
      "padding": null,
      "right": null,
      "top": null,
      "visibility": null,
      "width": null
     }
    },
    "337ec056c0fd443bbbf71ee3051dbddf": {
     "model_module": "@jupyter-widgets/base",
     "model_module_version": "1.2.0",
     "model_name": "LayoutModel",
     "state": {
      "_model_module": "@jupyter-widgets/base",
      "_model_module_version": "1.2.0",
      "_model_name": "LayoutModel",
      "_view_count": null,
      "_view_module": "@jupyter-widgets/base",
      "_view_module_version": "1.2.0",
      "_view_name": "LayoutView",
      "align_content": null,
      "align_items": null,
      "align_self": null,
      "border": null,
      "bottom": null,
      "display": null,
      "flex": null,
      "flex_flow": null,
      "grid_area": null,
      "grid_auto_columns": null,
      "grid_auto_flow": null,
      "grid_auto_rows": null,
      "grid_column": null,
      "grid_gap": null,
      "grid_row": null,
      "grid_template_areas": null,
      "grid_template_columns": null,
      "grid_template_rows": null,
      "height": null,
      "justify_content": null,
      "justify_items": null,
      "left": null,
      "margin": null,
      "max_height": null,
      "max_width": null,
      "min_height": null,
      "min_width": null,
      "object_fit": null,
      "object_position": null,
      "order": null,
      "overflow": null,
      "overflow_x": null,
      "overflow_y": null,
      "padding": null,
      "right": null,
      "top": null,
      "visibility": null,
      "width": null
     }
    },
    "3c1fc74136fa48379601db1f03af2b3b": {
     "model_module": "@jupyter-widgets/controls",
     "model_module_version": "1.5.0",
     "model_name": "FloatProgressModel",
     "state": {
      "_dom_classes": [],
      "_model_module": "@jupyter-widgets/controls",
      "_model_module_version": "1.5.0",
      "_model_name": "FloatProgressModel",
      "_view_count": null,
      "_view_module": "@jupyter-widgets/controls",
      "_view_module_version": "1.5.0",
      "_view_name": "ProgressView",
      "bar_style": "success",
      "description": "",
      "description_tooltip": null,
      "layout": "IPY_MODEL_81601e21e36d49ad9ba28a3009235d1e",
      "max": 521,
      "min": 0,
      "orientation": "horizontal",
      "style": "IPY_MODEL_d9588105801348599c3917b6507f89d2",
      "value": 521
     }
    },
    "416b1201a9c94021826e30f5b9b236fe": {
     "model_module": "@jupyter-widgets/base",
     "model_module_version": "1.2.0",
     "model_name": "LayoutModel",
     "state": {
      "_model_module": "@jupyter-widgets/base",
      "_model_module_version": "1.2.0",
      "_model_name": "LayoutModel",
      "_view_count": null,
      "_view_module": "@jupyter-widgets/base",
      "_view_module_version": "1.2.0",
      "_view_name": "LayoutView",
      "align_content": null,
      "align_items": null,
      "align_self": null,
      "border": null,
      "bottom": null,
      "display": null,
      "flex": null,
      "flex_flow": null,
      "grid_area": null,
      "grid_auto_columns": null,
      "grid_auto_flow": null,
      "grid_auto_rows": null,
      "grid_column": null,
      "grid_gap": null,
      "grid_row": null,
      "grid_template_areas": null,
      "grid_template_columns": null,
      "grid_template_rows": null,
      "height": null,
      "justify_content": null,
      "justify_items": null,
      "left": null,
      "margin": null,
      "max_height": null,
      "max_width": null,
      "min_height": null,
      "min_width": null,
      "object_fit": null,
      "object_position": null,
      "order": null,
      "overflow": null,
      "overflow_x": null,
      "overflow_y": null,
      "padding": null,
      "right": null,
      "top": null,
      "visibility": null,
      "width": null
     }
    },
    "519162ea515b4597b08bfe35de2c8dcb": {
     "model_module": "@jupyter-widgets/base",
     "model_module_version": "1.2.0",
     "model_name": "LayoutModel",
     "state": {
      "_model_module": "@jupyter-widgets/base",
      "_model_module_version": "1.2.0",
      "_model_name": "LayoutModel",
      "_view_count": null,
      "_view_module": "@jupyter-widgets/base",
      "_view_module_version": "1.2.0",
      "_view_name": "LayoutView",
      "align_content": null,
      "align_items": null,
      "align_self": null,
      "border": null,
      "bottom": null,
      "display": null,
      "flex": null,
      "flex_flow": null,
      "grid_area": null,
      "grid_auto_columns": null,
      "grid_auto_flow": null,
      "grid_auto_rows": null,
      "grid_column": null,
      "grid_gap": null,
      "grid_row": null,
      "grid_template_areas": null,
      "grid_template_columns": null,
      "grid_template_rows": null,
      "height": null,
      "justify_content": null,
      "justify_items": null,
      "left": null,
      "margin": null,
      "max_height": null,
      "max_width": null,
      "min_height": null,
      "min_width": null,
      "object_fit": null,
      "object_position": null,
      "order": null,
      "overflow": null,
      "overflow_x": null,
      "overflow_y": null,
      "padding": null,
      "right": null,
      "top": null,
      "visibility": null,
      "width": null
     }
    },
    "57d0e649f51d484a9ff7d3d5d74caa72": {
     "model_module": "@jupyter-widgets/controls",
     "model_module_version": "1.5.0",
     "model_name": "ProgressStyleModel",
     "state": {
      "_model_module": "@jupyter-widgets/controls",
      "_model_module_version": "1.5.0",
      "_model_name": "ProgressStyleModel",
      "_view_count": null,
      "_view_module": "@jupyter-widgets/base",
      "_view_module_version": "1.2.0",
      "_view_name": "StyleView",
      "bar_color": null,
      "description_width": ""
     }
    },
    "5ced5030b54342199b9ace32cbe2e610": {
     "model_module": "@jupyter-widgets/controls",
     "model_module_version": "1.5.0",
     "model_name": "HBoxModel",
     "state": {
      "_dom_classes": [],
      "_model_module": "@jupyter-widgets/controls",
      "_model_module_version": "1.5.0",
      "_model_name": "HBoxModel",
      "_view_count": null,
      "_view_module": "@jupyter-widgets/controls",
      "_view_module_version": "1.5.0",
      "_view_name": "HBoxView",
      "box_style": "",
      "children": [
       "IPY_MODEL_e86c0baf11b643b59f1e3470c4301fe0",
       "IPY_MODEL_13219318afc146bc94e1c7780fe1af40",
       "IPY_MODEL_6e5d49add64744a0860b1b5c5abb4df2"
      ],
      "layout": "IPY_MODEL_337ec056c0fd443bbbf71ee3051dbddf"
     }
    },
    "6e5d49add64744a0860b1b5c5abb4df2": {
     "model_module": "@jupyter-widgets/controls",
     "model_module_version": "1.5.0",
     "model_name": "HTMLModel",
     "state": {
      "_dom_classes": [],
      "_model_module": "@jupyter-widgets/controls",
      "_model_module_version": "1.5.0",
      "_model_name": "HTMLModel",
      "_view_count": null,
      "_view_module": "@jupyter-widgets/controls",
      "_view_module_version": "1.5.0",
      "_view_name": "HTMLView",
      "description": "",
      "description_tooltip": null,
      "layout": "IPY_MODEL_519162ea515b4597b08bfe35de2c8dcb",
      "placeholder": "​",
      "style": "IPY_MODEL_7a92df795b8c4eeb9451038b64550439",
      "value": " 1.70M/1.70M [00:00&lt;00:00, 2.15MB/s]"
     }
    },
    "72c99a4e3a9247eda239cac398e5b8a2": {
     "model_module": "@jupyter-widgets/controls",
     "model_module_version": "1.5.0",
     "model_name": "DescriptionStyleModel",
     "state": {
      "_model_module": "@jupyter-widgets/controls",
      "_model_module_version": "1.5.0",
      "_model_name": "DescriptionStyleModel",
      "_view_count": null,
      "_view_module": "@jupyter-widgets/base",
      "_view_module_version": "1.2.0",
      "_view_name": "StyleView",
      "description_width": ""
     }
    },
    "7a92df795b8c4eeb9451038b64550439": {
     "model_module": "@jupyter-widgets/controls",
     "model_module_version": "1.5.0",
     "model_name": "DescriptionStyleModel",
     "state": {
      "_model_module": "@jupyter-widgets/controls",
      "_model_module_version": "1.5.0",
      "_model_name": "DescriptionStyleModel",
      "_view_count": null,
      "_view_module": "@jupyter-widgets/base",
      "_view_module_version": "1.2.0",
      "_view_name": "StyleView",
      "description_width": ""
     }
    },
    "81601e21e36d49ad9ba28a3009235d1e": {
     "model_module": "@jupyter-widgets/base",
     "model_module_version": "1.2.0",
     "model_name": "LayoutModel",
     "state": {
      "_model_module": "@jupyter-widgets/base",
      "_model_module_version": "1.2.0",
      "_model_name": "LayoutModel",
      "_view_count": null,
      "_view_module": "@jupyter-widgets/base",
      "_view_module_version": "1.2.0",
      "_view_name": "LayoutView",
      "align_content": null,
      "align_items": null,
      "align_self": null,
      "border": null,
      "bottom": null,
      "display": null,
      "flex": null,
      "flex_flow": null,
      "grid_area": null,
      "grid_auto_columns": null,
      "grid_auto_flow": null,
      "grid_auto_rows": null,
      "grid_column": null,
      "grid_gap": null,
      "grid_row": null,
      "grid_template_areas": null,
      "grid_template_columns": null,
      "grid_template_rows": null,
      "height": null,
      "justify_content": null,
      "justify_items": null,
      "left": null,
      "margin": null,
      "max_height": null,
      "max_width": null,
      "min_height": null,
      "min_width": null,
      "object_fit": null,
      "object_position": null,
      "order": null,
      "overflow": null,
      "overflow_x": null,
      "overflow_y": null,
      "padding": null,
      "right": null,
      "top": null,
      "visibility": null,
      "width": null
     }
    },
    "846f85c733094e1a90a7e2c6088207d2": {
     "model_module": "@jupyter-widgets/base",
     "model_module_version": "1.2.0",
     "model_name": "LayoutModel",
     "state": {
      "_model_module": "@jupyter-widgets/base",
      "_model_module_version": "1.2.0",
      "_model_name": "LayoutModel",
      "_view_count": null,
      "_view_module": "@jupyter-widgets/base",
      "_view_module_version": "1.2.0",
      "_view_name": "LayoutView",
      "align_content": null,
      "align_items": null,
      "align_self": null,
      "border": null,
      "bottom": null,
      "display": null,
      "flex": null,
      "flex_flow": null,
      "grid_area": null,
      "grid_auto_columns": null,
      "grid_auto_flow": null,
      "grid_auto_rows": null,
      "grid_column": null,
      "grid_gap": null,
      "grid_row": null,
      "grid_template_areas": null,
      "grid_template_columns": null,
      "grid_template_rows": null,
      "height": null,
      "justify_content": null,
      "justify_items": null,
      "left": null,
      "margin": null,
      "max_height": null,
      "max_width": null,
      "min_height": null,
      "min_width": null,
      "object_fit": null,
      "object_position": null,
      "order": null,
      "overflow": null,
      "overflow_x": null,
      "overflow_y": null,
      "padding": null,
      "right": null,
      "top": null,
      "visibility": null,
      "width": null
     }
    },
    "8effec4a696e432789ebaf6b9be8ab49": {
     "model_module": "@jupyter-widgets/controls",
     "model_module_version": "1.5.0",
     "model_name": "HBoxModel",
     "state": {
      "_dom_classes": [],
      "_model_module": "@jupyter-widgets/controls",
      "_model_module_version": "1.5.0",
      "_model_name": "HBoxModel",
      "_view_count": null,
      "_view_module": "@jupyter-widgets/controls",
      "_view_module_version": "1.5.0",
      "_view_name": "HBoxView",
      "box_style": "",
      "children": [
       "IPY_MODEL_d891d2bc2886453e959aa838827aee6c",
       "IPY_MODEL_3c1fc74136fa48379601db1f03af2b3b",
       "IPY_MODEL_082ca0e36fe9441a8c153262b8129829"
      ],
      "layout": "IPY_MODEL_416b1201a9c94021826e30f5b9b236fe"
     }
    },
    "be0ae53bdc8947738607ac97d0670dd8": {
     "model_module": "@jupyter-widgets/base",
     "model_module_version": "1.2.0",
     "model_name": "LayoutModel",
     "state": {
      "_model_module": "@jupyter-widgets/base",
      "_model_module_version": "1.2.0",
      "_model_name": "LayoutModel",
      "_view_count": null,
      "_view_module": "@jupyter-widgets/base",
      "_view_module_version": "1.2.0",
      "_view_name": "LayoutView",
      "align_content": null,
      "align_items": null,
      "align_self": null,
      "border": null,
      "bottom": null,
      "display": null,
      "flex": null,
      "flex_flow": null,
      "grid_area": null,
      "grid_auto_columns": null,
      "grid_auto_flow": null,
      "grid_auto_rows": null,
      "grid_column": null,
      "grid_gap": null,
      "grid_row": null,
      "grid_template_areas": null,
      "grid_template_columns": null,
      "grid_template_rows": null,
      "height": null,
      "justify_content": null,
      "justify_items": null,
      "left": null,
      "margin": null,
      "max_height": null,
      "max_width": null,
      "min_height": null,
      "min_width": null,
      "object_fit": null,
      "object_position": null,
      "order": null,
      "overflow": null,
      "overflow_x": null,
      "overflow_y": null,
      "padding": null,
      "right": null,
      "top": null,
      "visibility": null,
      "width": null
     }
    },
    "c5ef7c07daed4c678d20dcd6587565a2": {
     "model_module": "@jupyter-widgets/base",
     "model_module_version": "1.2.0",
     "model_name": "LayoutModel",
     "state": {
      "_model_module": "@jupyter-widgets/base",
      "_model_module_version": "1.2.0",
      "_model_name": "LayoutModel",
      "_view_count": null,
      "_view_module": "@jupyter-widgets/base",
      "_view_module_version": "1.2.0",
      "_view_name": "LayoutView",
      "align_content": null,
      "align_items": null,
      "align_self": null,
      "border": null,
      "bottom": null,
      "display": null,
      "flex": null,
      "flex_flow": null,
      "grid_area": null,
      "grid_auto_columns": null,
      "grid_auto_flow": null,
      "grid_auto_rows": null,
      "grid_column": null,
      "grid_gap": null,
      "grid_row": null,
      "grid_template_areas": null,
      "grid_template_columns": null,
      "grid_template_rows": null,
      "height": null,
      "justify_content": null,
      "justify_items": null,
      "left": null,
      "margin": null,
      "max_height": null,
      "max_width": null,
      "min_height": null,
      "min_width": null,
      "object_fit": null,
      "object_position": null,
      "order": null,
      "overflow": null,
      "overflow_x": null,
      "overflow_y": null,
      "padding": null,
      "right": null,
      "top": null,
      "visibility": null,
      "width": null
     }
    },
    "d891d2bc2886453e959aa838827aee6c": {
     "model_module": "@jupyter-widgets/controls",
     "model_module_version": "1.5.0",
     "model_name": "HTMLModel",
     "state": {
      "_dom_classes": [],
      "_model_module": "@jupyter-widgets/controls",
      "_model_module_version": "1.5.0",
      "_model_name": "HTMLModel",
      "_view_count": null,
      "_view_module": "@jupyter-widgets/controls",
      "_view_module_version": "1.5.0",
      "_view_name": "HTMLView",
      "description": "",
      "description_tooltip": null,
      "layout": "IPY_MODEL_be0ae53bdc8947738607ac97d0670dd8",
      "placeholder": "​",
      "style": "IPY_MODEL_0286cf224cbb48969345534b9cebfbe5",
      "value": "Downloading: 100%"
     }
    },
    "d9588105801348599c3917b6507f89d2": {
     "model_module": "@jupyter-widgets/controls",
     "model_module_version": "1.5.0",
     "model_name": "ProgressStyleModel",
     "state": {
      "_model_module": "@jupyter-widgets/controls",
      "_model_module_version": "1.5.0",
      "_model_name": "ProgressStyleModel",
      "_view_count": null,
      "_view_module": "@jupyter-widgets/base",
      "_view_module_version": "1.2.0",
      "_view_name": "StyleView",
      "bar_color": null,
      "description_width": ""
     }
    },
    "e86c0baf11b643b59f1e3470c4301fe0": {
     "model_module": "@jupyter-widgets/controls",
     "model_module_version": "1.5.0",
     "model_name": "HTMLModel",
     "state": {
      "_dom_classes": [],
      "_model_module": "@jupyter-widgets/controls",
      "_model_module_version": "1.5.0",
      "_model_name": "HTMLModel",
      "_view_count": null,
      "_view_module": "@jupyter-widgets/controls",
      "_view_module_version": "1.5.0",
      "_view_name": "HTMLView",
      "description": "",
      "description_tooltip": null,
      "layout": "IPY_MODEL_846f85c733094e1a90a7e2c6088207d2",
      "placeholder": "​",
      "style": "IPY_MODEL_72c99a4e3a9247eda239cac398e5b8a2",
      "value": "Downloading: 100%"
     }
    }
   }
  }
 },
 "nbformat": 4,
 "nbformat_minor": 1
}
